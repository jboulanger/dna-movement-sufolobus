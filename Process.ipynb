{
 "cells": [
  {
   "cell_type": "code",
   "execution_count": null,
   "metadata": {},
   "outputs": [],
   "source": [
    "%load_ext autoreload\n",
    "%autoreload 2\n"
   ]
  },
  {
   "cell_type": "code",
   "execution_count": null,
   "metadata": {},
   "outputs": [],
   "source": [
    "import pandas as pd\n",
    "from pathlib import Path\n",
    "\n",
    "# list files from the src folder\n",
    "src = Path('/media/cephfs2/jparham/For Jerome/Divisions with G2toConstriction/')\n",
    "dst = Path('./')\n",
    "\n",
    "filelist = pd.DataFrame.from_records(\n",
    "    [{'path':f,'name':f.stem} for f in src.glob('[!.]*.tif')]\n",
    ")\n",
    "filelist.head()"
   ]
  },
  {
   "cell_type": "code",
   "execution_count": null,
   "metadata": {},
   "outputs": [],
   "source": [
    "from tqdm.notebook import tqdm\n",
    "tqdm.pandas()\n",
    "import motionquant as mq\n",
    "\n",
    "results = Path('results.h5') # result\n",
    "if results.exists():\n",
    "    results.unlink()\n",
    "    \n",
    "df = []\n",
    "for filename in tqdm(filelist['path'].iloc):\n",
    "    try:\n",
    "        name = filename.stem        \n",
    "        img, mask, position, speed, diff, flow, rho, div = mq.process(filename)\n",
    "        df.append(mq.record(name, img, mask, position, speed, diff, flow, rho, div))\n",
    "        mq.save_result(results, name, img, mask, position, speed, diff, flow, rho, div)\n",
    "    except Exception as e:\n",
    "        print(f\"file '{filename}' could not be processed\")\n",
    "        print(e)\n",
    "        pass"
   ]
  },
  {
   "cell_type": "code",
   "execution_count": null,
   "metadata": {},
   "outputs": [],
   "source": [
    "df = pd.concat(df)"
   ]
  },
  {
   "cell_type": "code",
   "execution_count": null,
   "metadata": {},
   "outputs": [],
   "source": [
    "df.to_csv('results.csv')"
   ]
  }
 ],
 "metadata": {
  "kernelspec": {
   "display_name": "imaging",
   "language": "python",
   "name": "python3"
  },
  "language_info": {
   "codemirror_mode": {
    "name": "ipython",
    "version": 3
   },
   "file_extension": ".py",
   "mimetype": "text/x-python",
   "name": "python",
   "nbconvert_exporter": "python",
   "pygments_lexer": "ipython3",
   "version": "3.9.16"
  }
 },
 "nbformat": 4,
 "nbformat_minor": 2
}
