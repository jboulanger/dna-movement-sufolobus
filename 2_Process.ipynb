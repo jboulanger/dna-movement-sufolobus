{
 "cells": [
  {
   "cell_type": "markdown",
   "metadata": {},
   "source": [
    "# Process all files\n",
    "\n",
    "In this notebook, we load the list of files to process them in parallel.\n",
    "The results are saved into a hdf5 file.\n"
   ]
  },
  {
   "cell_type": "code",
   "execution_count": 8,
   "metadata": {},
   "outputs": [
    {
     "name": "stdout",
     "output_type": "stream",
     "text": [
      "The autoreload extension is already loaded. To reload it, use:\n",
      "  %reload_ext autoreload\n"
     ]
    }
   ],
   "source": [
    "%load_ext autoreload\n",
    "%autoreload 2"
   ]
  },
  {
   "cell_type": "markdown",
   "metadata": {},
   "source": [
    "## Load the list of files"
   ]
  },
  {
   "cell_type": "code",
   "execution_count": 10,
   "metadata": {},
   "outputs": [
    {
     "name": "stdout",
     "output_type": "stream",
     "text": [
      "Number of files 62\n"
     ]
    },
    {
     "data": {
      "text/html": [
       "<div>\n",
       "<style scoped>\n",
       "    .dataframe tbody tr th:only-of-type {\n",
       "        vertical-align: middle;\n",
       "    }\n",
       "\n",
       "    .dataframe tbody tr th {\n",
       "        vertical-align: top;\n",
       "    }\n",
       "\n",
       "    .dataframe thead th {\n",
       "        text-align: right;\n",
       "    }\n",
       "</style>\n",
       "<table border=\"1\" class=\"dataframe\">\n",
       "  <thead>\n",
       "    <tr style=\"text-align: right;\">\n",
       "      <th></th>\n",
       "      <th>path</th>\n",
       "      <th>name</th>\n",
       "      <th>condition</th>\n",
       "    </tr>\n",
       "  </thead>\n",
       "  <tbody>\n",
       "    <tr>\n",
       "      <th>0</th>\n",
       "      <td>/media/cephfs2/jparham/Joe for Jerome /SegA Li...</td>\n",
       "      <td>01a_delSegA_CM_SyS_reg_Cell_0.tif</td>\n",
       "      <td>sega</td>\n",
       "    </tr>\n",
       "    <tr>\n",
       "      <th>1</th>\n",
       "      <td>/media/cephfs2/jparham/Joe for Jerome /SegA Li...</td>\n",
       "      <td>01a_delSegA_CM_SyS_reg_Cell_12.tif</td>\n",
       "      <td>sega</td>\n",
       "    </tr>\n",
       "    <tr>\n",
       "      <th>2</th>\n",
       "      <td>/media/cephfs2/jparham/Joe for Jerome /SegA Li...</td>\n",
       "      <td>01a_delSegA_CM_SyS_reg_Cell_13.tif</td>\n",
       "      <td>sega</td>\n",
       "    </tr>\n",
       "    <tr>\n",
       "      <th>3</th>\n",
       "      <td>/media/cephfs2/jparham/Joe for Jerome /SegA Li...</td>\n",
       "      <td>01a_delSegA_CM_SyS_reg_Cell_3.tif</td>\n",
       "      <td>sega</td>\n",
       "    </tr>\n",
       "    <tr>\n",
       "      <th>4</th>\n",
       "      <td>/media/cephfs2/jparham/Joe for Jerome /SegA Li...</td>\n",
       "      <td>01a_delSegA_CM_SyS_reg_Cell_11.tif</td>\n",
       "      <td>sega</td>\n",
       "    </tr>\n",
       "  </tbody>\n",
       "</table>\n",
       "</div>"
      ],
      "text/plain": [
       "                                                path  \\\n",
       "0  /media/cephfs2/jparham/Joe for Jerome /SegA Li...   \n",
       "1  /media/cephfs2/jparham/Joe for Jerome /SegA Li...   \n",
       "2  /media/cephfs2/jparham/Joe for Jerome /SegA Li...   \n",
       "3  /media/cephfs2/jparham/Joe for Jerome /SegA Li...   \n",
       "4  /media/cephfs2/jparham/Joe for Jerome /SegA Li...   \n",
       "\n",
       "                                 name condition  \n",
       "0   01a_delSegA_CM_SyS_reg_Cell_0.tif      sega  \n",
       "1  01a_delSegA_CM_SyS_reg_Cell_12.tif      sega  \n",
       "2  01a_delSegA_CM_SyS_reg_Cell_13.tif      sega  \n",
       "3   01a_delSegA_CM_SyS_reg_Cell_3.tif      sega  \n",
       "4  01a_delSegA_CM_SyS_reg_Cell_11.tif      sega  "
      ]
     },
     "execution_count": 10,
     "metadata": {},
     "output_type": "execute_result"
    }
   ],
   "source": [
    "import pandas as pd\n",
    "from pathlib import Path\n",
    "\n",
    "# list files from the src folder\n",
    "src = Path('/media/cephfs2/jparham/Joe for Jerome /')\n",
    "dst = Path('/media/cephfs2/jeromeb/userdata/Baum_group/jparham/Analysis8')\n",
    "\n",
    "filelist = pd.read_csv(dst/'filelist.csv', index_col=0)\n",
    "print(f\"Number of files {len(filelist)}\")\n",
    "filelist.head()\n"
   ]
  },
  {
   "cell_type": "markdown",
   "metadata": {},
   "source": [
    "## Processing\n",
    "\n",
    "Files are processed in parallel."
   ]
  },
  {
   "cell_type": "code",
   "execution_count": null,
   "metadata": {},
   "outputs": [],
   "source": [
    "from dask.distributed import LocalCluster\n",
    "cluster = LocalCluster()\n",
    "client = cluster.get_client()\n",
    "cluster.scale(6)\n",
    "cluster"
   ]
  },
  {
   "cell_type": "code",
   "execution_count": null,
   "metadata": {},
   "outputs": [],
   "source": [
    "import motionquant as mq\n",
    "import dask\n",
    "from dask.distributed import Lock\n",
    "import traceback\n",
    "\n",
    "def process(filename, results_path):\n",
    "    \"\"\"Process files and save results in a hf5 file\"\"\"\n",
    "    name = Path(filename).stem        \n",
    "    img, mask, position, speed, diff, flow, rho, div, blob = mq.process(Path(filename))\n",
    "    lock = Lock('process-sufo')\n",
    "    lock.acquire()\n",
    "    mq.save_result(results_path, name, img, mask, position, speed, diff, flow, rho, div, blob)\n",
    "    lock.release()\n",
    "    df = mq.record(name, img, mask, position, speed, diff, flow, rho, div, blob)\n",
    "    return df\n",
    "\n",
    "def process_safe(filename, results_path):\n",
    "    \"\"\"Process files catching exceptions\"\"\"\n",
    "    try:\n",
    "        return process(filename, results_path)\n",
    "    except Exception as e:\n",
    "        print(f\"file '{filename}' could not be processed\")\n",
    "        print(e)\n",
    "        print(traceback.print_exc())\n",
    "        pass\n",
    "\n",
    "results_path = dst/Path('results.h5') # result\n",
    "if results_path.exists():\n",
    "    results_path.unlink()\n",
    "\n",
    "print(f\"Saving results in file '{results_path}'\")\n",
    "tsk = [dask.delayed(process_safe)(filename, results_path) for filename in filelist['path'].iloc]\n",
    "res = dask.compute(tsk)\n",
    "df = pd.concat(res[0])"
   ]
  },
  {
   "cell_type": "code",
   "execution_count": 7,
   "metadata": {},
   "outputs": [],
   "source": [
    "df.to_csv(dst/'results.csv')"
   ]
  }
 ],
 "metadata": {
  "kernelspec": {
   "display_name": "Python 3",
   "language": "python",
   "name": "python3"
  },
  "language_info": {
   "codemirror_mode": {
    "name": "ipython",
    "version": 3
   },
   "file_extension": ".py",
   "mimetype": "text/x-python",
   "name": "python",
   "nbconvert_exporter": "python",
   "pygments_lexer": "ipython3",
   "version": "3.11.6"
  }
 },
 "nbformat": 4,
 "nbformat_minor": 2
}
