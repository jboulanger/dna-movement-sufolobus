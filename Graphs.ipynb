{
 "cells": [
  {
   "cell_type": "code",
   "execution_count": null,
   "metadata": {},
   "outputs": [],
   "source": [
    "%load_ext autoreload\n",
    "%autoreload 2"
   ]
  },
  {
   "cell_type": "code",
   "execution_count": null,
   "metadata": {},
   "outputs": [],
   "source": [
    "import motionquant as mq\n",
    "import matplotlib.pyplot as plt\n",
    "\n",
    "filename = 'results.h5'\n",
    "items = mq.inspect_file(filename)\n",
    "items"
   ]
  },
  {
   "cell_type": "code",
   "execution_count": null,
   "metadata": {},
   "outputs": [],
   "source": [
    "fig, ax = plt.subplots(len(items),6, figsize=(20,50))\n",
    "for k, name in enumerate(items):    \n",
    "    try:\n",
    "        img, mask, position, speed, diff, flow, rho, div = mq.load(filename, name)\n",
    "        mq.figure(ax[k,:], name, img, mask, position, speed, diff, flow, rho, div)\n",
    "    except Exception as e:\n",
    "        print(f'error for {name}')\n",
    "        print(e)\n",
    "        pass\n",
    "plt.savefig('figure.pdf')"
   ]
  },
  {
   "cell_type": "code",
   "execution_count": null,
   "metadata": {},
   "outputs": [],
   "source": [
    "for name in items:\n",
    "    img, mask, position, speed, diff, flow, rho, div = mq.load(filename, name) \n",
    "    mq.strip(name, img[:400], mask, position, speed, diff, flow, rho, div, \"Greys\", step=10, quiver=False)   \n",
    "    plt.savefig(f'strip {name}.pdf')"
   ]
  },
  {
   "cell_type": "code",
   "execution_count": null,
   "metadata": {},
   "outputs": [],
   "source": [
    "import napari\n",
    "v = napari.view_image(img,channel_axis=1)\n",
    "v.add_labels(mask.squeeze())\n"
   ]
  }
 ],
 "metadata": {
  "kernelspec": {
   "display_name": "imaging",
   "language": "python",
   "name": "python3"
  },
  "language_info": {
   "codemirror_mode": {
    "name": "ipython",
    "version": 3
   },
   "file_extension": ".py",
   "mimetype": "text/x-python",
   "name": "python",
   "nbconvert_exporter": "python",
   "pygments_lexer": "ipython3",
   "version": "3.9.16"
  }
 },
 "nbformat": 4,
 "nbformat_minor": 2
}
