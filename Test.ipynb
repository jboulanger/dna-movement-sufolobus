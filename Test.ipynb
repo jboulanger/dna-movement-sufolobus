{
 "cells": [
  {
   "cell_type": "code",
   "execution_count": null,
   "metadata": {},
   "outputs": [],
   "source": [
    "%load_ext autoreload\n",
    "%autoreload 2"
   ]
  },
  {
   "cell_type": "code",
   "execution_count": null,
   "metadata": {},
   "outputs": [],
   "source": [
    "import numpy as np\n",
    "from scipy import ndimage as ndi\n",
    "import matplotlib.pyplot as plt\n",
    "import dnasufo.dnasufo as dnasufo\n",
    "shape = [50, 60, 60]\n",
    "img = np.zeros(shape)\n",
    "t = np.arange(shape[0])\n",
    "angle = np.random.uniform(0, np.pi)\n",
    "center = np.array([shape[-2], shape[-1]]).reshape((2,1))\n",
    "delta = (0.5 + np.arctan(t - shape[0] / 4)/np.pi)\n",
    "p1 = np.stack((t, shape[1] * (0.5 + np.cos(angle)*delta / 5),  shape[2] * (0.5 + np.sin(angle)*delta / 5))).astype(int)\n",
    "p2 = np.stack((t, center[0] * (0.5 + np.cos(-angle)*delta / 5),  center[1] * (0.5 + np.sin(-angle)*delta / 5))).astype(int)\n",
    "img[tuple(p1)] = 1\n",
    "img[tuple(p2)] = 1\n",
    "img1 = ndi.gaussian_filter(img, [0,4,4])\n",
    "img2 = (ndi.gaussian_filter(img, [0,3,3]) > 0.0001) & (ndi.gaussian_filter(img, [0,3,3]) < 0.0005)\n",
    "img2 = ndi.gaussian_filter(img2.astype(float), [0,2,2])\n",
    "# plt.imshow(img2[9])\n",
    "data = np.stack((img1/img1.max(),img2/img2.max()),1)\n",
    "data = 100 + 50 * data / data.max()\n",
    "data = data + np.random.normal(0,5,data.shape)\n",
    "plt.imshow(dnasufo.uv2rgb(data[25]))"
   ]
  },
  {
   "cell_type": "code",
   "execution_count": null,
   "metadata": {},
   "outputs": [],
   "source": [
    "import numpy as np\n",
    "from scipy import ndimage as ndi\n",
    "shape = [50,2,60,60]\n",
    "img = np.array(shape)\n",
    "for frame in range(shape[0]):\n",
    "    if frame < 0.5 * shape[0]:\n",
    "\n"
   ]
  },
  {
   "cell_type": "code",
   "execution_count": null,
   "metadata": {},
   "outputs": [],
   "source": [
    "import napari\n",
    "napari.view_image(data,channel_axis=1)"
   ]
  },
  {
   "cell_type": "code",
   "execution_count": null,
   "metadata": {},
   "outputs": [],
   "source": [
    "import dnasufo.dnasufo as mq\n",
    "pimg, cell_lbl, cell_trj, cell_flow, dna_lbl, dna_trj, dna_flow = mq.process(data)"
   ]
  },
  {
   "cell_type": "code",
   "execution_count": null,
   "metadata": {},
   "outputs": [],
   "source": [
    "import napari\n",
    "v = napari.view_image(data,channel_axis=1)\n",
    "v.add_labels(cell_lbl.squeeze())"
   ]
  },
  {
   "cell_type": "code",
   "execution_count": null,
   "metadata": {},
   "outputs": [],
   "source": [
    "mq.create_figure(0,\"test\",pimg, cell_lbl, cell_trj, cell_flow, dna_lbl, dna_trj, dna_flow,10)"
   ]
  },
  {
   "cell_type": "code",
   "execution_count": null,
   "metadata": {},
   "outputs": [],
   "source": [
    "from pathlib import Path\n",
    "import tifffile\n",
    "import dnasufo.dnasufo as mq\n",
    "import pandas as pd\n",
    "import numpy as np\n",
    "import matplotlib.pyplot as plt\n",
    "\n",
    "# list files from the src folder\n",
    "root = Path('/media/cephfs2/jparham/')\n",
    "dst = Path('/media/cephfs2/jeromeb/userdata/Baum_group/jparham/Analysis7/')\n",
    "filelist = pd.read_csv(dst/'filelist.csv')\n",
    "filelist = filelist.replace(u\"\\uf028\",\" \")\n",
    "\n",
    "# \n",
    "index = 0\n",
    "filename = filelist['path'].iloc[index]\n",
    "print(filename)\n",
    "pimg, cell_lbl, cell_trj, cell_flow, dna_lbl, dna_trj, dna_flow = mq.process(filename)\n",
    "plt.imshow(mq.uv2rgb(pimg[0]))\n",
    "plt.plot(cell_trj['centroid-1'], cell_trj['centroid-0'])\n",
    "plt.title(Path(filename).stem)"
   ]
  },
  {
   "cell_type": "code",
   "execution_count": null,
   "metadata": {},
   "outputs": [],
   "source": [
    "plt.imshow(pimg[100,0])"
   ]
  },
  {
   "cell_type": "code",
   "execution_count": null,
   "metadata": {},
   "outputs": [],
   "source": [
    "import napari\n",
    "v = napari.view_image(pimg,channel_axis=1)\n",
    "v.add_labels(np.squeeze(cell_lbl))\n",
    "v.add_labels(np.squeeze(dna_lbl))\n",
    "v.add_tracks(cell_trj[['label', 'frame','centroid-0','centroid-1']])"
   ]
  },
  {
   "cell_type": "code",
   "execution_count": null,
   "metadata": {},
   "outputs": [],
   "source": [
    "mq.create_figure(index, filename, pimg, cell_lbl, cell_trj, cell_flow, dna_lbl, dna_trj, dna_flow, frame=100)"
   ]
  },
  {
   "cell_type": "code",
   "execution_count": null,
   "metadata": {},
   "outputs": [],
   "source": [
    "mq.create_strip(filename, pimg, cell_lbl, cell_trj, cell_flow, dna_lbl, dna_trj, dna_flow,selection=slice(0,200,20))"
   ]
  },
  {
   "cell_type": "code",
   "execution_count": null,
   "metadata": {},
   "outputs": [],
   "source": [
    "results_path = Path('tmp.h5')\n",
    "if results_path.exists():\n",
    "    results_path.unlink()\n",
    "mq.save_result(results_path, Path(filename).stem, pimg, cell_lbl, cell_trj, cell_flow, dna_lbl, dna_trj, dna_flow)"
   ]
  }
 ],
 "metadata": {
  "language_info": {
   "name": "python",
   "pygments_lexer": "ipython3"
  }
 },
 "nbformat": 4,
 "nbformat_minor": 2
}
