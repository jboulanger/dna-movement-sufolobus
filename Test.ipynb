{
 "cells": [
  {
   "cell_type": "code",
   "execution_count": null,
   "metadata": {},
   "outputs": [],
   "source": [
    "%load_ext autoreload\n",
    "%autoreload 2"
   ]
  },
  {
   "cell_type": "code",
   "execution_count": null,
   "metadata": {},
   "outputs": [],
   "source": [
    "from pathlib import Path\n",
    "import tifffile\n",
    "import motionquant as mq\n",
    "import pandas as pd\n",
    "import numpy as np\n",
    "import matplotlib.pyplot as plt\n",
    "# list files from the src folder\n",
    "src = Path('/media/cephfs2/jparham/For Jerome/Divisions with G2toConstriction/')\n",
    "dst = Path('./')\n",
    "\n",
    "filelist = pd.DataFrame.from_records(\n",
    "    [{'path':f,'name':f.stem} for f in src.glob('[!.]*.tif')]\n",
    ")\n",
    "filelist.head()\n",
    "\n",
    "filename = filelist['path'].iloc[0]\n",
    "img = tifffile.imread(filename)\n",
    "pimg = mq.preprocess(img, 100)\n",
    "mask, position = mq.segment_and_track(pimg)\n",
    "speed = np.diff(position, 1, axis=0)\n",
    "plt.plot(position[2:,1], position[2:,0])"
   ]
  },
  {
   "cell_type": "code",
   "execution_count": null,
   "metadata": {},
   "outputs": [],
   "source": [
    "diff = mq.frame_differences(pimg[:,1])\n",
    "flow = mq.compute_flow(pimg[:,1], speed)\n",
    "rho = mq.momentum(pimg[:-1,1], flow)\n",
    "div = mq.divergence(rho)\n",
    "print(diff.shape, flow.shape, rho.shape, div.shape)"
   ]
  },
  {
   "cell_type": "code",
   "execution_count": null,
   "metadata": {},
   "outputs": [],
   "source": [
    "import matplotlib.pyplot as plt\n",
    "from skimage import measure\n",
    "plt.imshow(mq.uv2rgb(img[0]))\n",
    "for c in measure.find_contours(mask[0, 0], 0.5):\n",
    "        plt.plot(c[:, 1], c[:, 0], \"w\")\n",
    "plt.plot(position[2:,1], position[2:,0])"
   ]
  },
  {
   "cell_type": "code",
   "execution_count": null,
   "metadata": {},
   "outputs": [],
   "source": [
    "fig, ax = plt.subplots(1,6, figsize=(15,5))\n",
    "mq.figure(ax,\"vv\",img, mask, position, speed, diff, flow, rho, div)"
   ]
  },
  {
   "cell_type": "code",
   "execution_count": null,
   "metadata": {},
   "outputs": [],
   "source": [
    "mq.strip(filename.stem, img, mask, position, speed, diff, flow, rho, div, \"Greys\", step=20, quiver=False)\n",
    "plt.savefig('tmp.pdf')"
   ]
  },
  {
   "cell_type": "code",
   "execution_count": null,
   "metadata": {},
   "outputs": [],
   "source": [
    "import napari\n",
    "v = napari.view_image(img,channel_axis=1)\n",
    "v.add_labels(mask.squeeze())\n",
    "v.add_points(position,ndim=2)"
   ]
  },
  {
   "cell_type": "code",
   "execution_count": null,
   "metadata": {},
   "outputs": [],
   "source": [
    "import colorsys\n",
    "print(flow.max())\n",
    "\n",
    "def vec2rgb(x):\n",
    "    h = (np.arctan2(x[0],x[1])+3.1415) / (2*3.1415)\n",
    "    v = np.linalg.norm(x,axis=0)    \n",
    "    y = np.stack((h,v),-1).reshape(x.shape[1]*x.shape[2],2)         \n",
    "    return np.stack([colorsys.hsv_to_rgb(hv[0],hv[1],1) for hv in y],0).reshape([x.shape[1],x.shape[2],3])\n",
    "\n",
    "x,y = np.meshgrid(np.linspace(-1,1),np.linspace(-1,1))\n",
    "plt.imshow(vec2rgb(np.stack((x,y))))\n",
    "#plt.imshow(vec2rgb(flow[100]))\n"
   ]
  },
  {
   "cell_type": "code",
   "execution_count": null,
   "metadata": {},
   "outputs": [],
   "source": [
    "colorsys."
   ]
  }
 ],
 "metadata": {
  "kernelspec": {
   "display_name": "imaging",
   "language": "python",
   "name": "python3"
  },
  "language_info": {
   "codemirror_mode": {
    "name": "ipython",
    "version": 3
   },
   "file_extension": ".py",
   "mimetype": "text/x-python",
   "name": "python",
   "nbconvert_exporter": "python",
   "pygments_lexer": "ipython3",
   "version": "3.9.16"
  }
 },
 "nbformat": 4,
 "nbformat_minor": 2
}
