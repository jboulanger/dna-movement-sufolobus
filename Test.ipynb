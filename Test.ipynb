{
 "cells": [
  {
   "cell_type": "code",
   "execution_count": 1,
   "metadata": {},
   "outputs": [],
   "source": [
    "%load_ext autoreload\n",
    "%autoreload 2"
   ]
  },
  {
   "cell_type": "code",
   "execution_count": 52,
   "metadata": {},
   "outputs": [],
   "source": [
    "from pathlib import Path\n",
    "import tifffile\n",
    "import motionquant as mq\n",
    "import pandas as pd\n",
    "import numpy as np\n",
    "import matplotlib.pyplot as plt\n",
    "# list files from the src folder\n",
    "src = Path('/media/cephfs2/jparham/For Jerome/Divisions with G2toConstriction/')\n",
    "dst = Path('./')\n",
    "\n",
    "filelist = pd.DataFrame.from_records(\n",
    "    [{'path':f,'name':f.stem} for f in src.glob('[!.]*.tif')]\n",
    ")\n",
    "filelist.head()\n",
    "\n",
    "filename = filelist['path'].iloc[1]\n",
    "img = tifffile.imread(filename)\n",
    "pimg = mq.preprocess(img, 100)\n",
    "#mask, position = mq.segment_and_track(pimg)\n",
    "cell_mask, cell_trj = mq.segment_and_track_cell(pimg)\n",
    "print(cell_mask.shape)"
   ]
  },
  {
   "cell_type": "code",
   "execution_count": null,
   "metadata": {},
   "outputs": [],
   "source": [
    "for t in range(0,300,50):\n",
    "    plt.imshow(30*labels[t,0] + img[t,0])\n",
    "    plt.show()\n"
   ]
  },
  {
   "cell_type": "markdown",
   "metadata": {},
   "source": [
    "Motion analysis"
   ]
  },
  {
   "cell_type": "code",
   "execution_count": 49,
   "metadata": {},
   "outputs": [
    {
     "name": "stdout",
     "output_type": "stream",
     "text": [
      "(458, 1, 47, 47) (458, 2, 47, 47) (458, 2, 47, 47) (458, 1, 47, 47)\n"
     ]
    }
   ],
   "source": [
    "diff = mq.frame_differences(pimg[:,1])\n",
    "flow = mq.compute_flow(pimg[:,1])\n",
    "rho = mq.momentum(pimg[:-1,1], flow)\n",
    "div = mq.divergence(rho)\n",
    "print(diff.shape, flow.shape, rho.shape, div.shape)\n"
   ]
  },
  {
   "cell_type": "code",
   "execution_count": 51,
   "metadata": {},
   "outputs": [
    {
     "data": {
      "text/plain": [
       "(459, 2, 47, 47)"
      ]
     },
     "execution_count": 51,
     "metadata": {},
     "output_type": "execute_result"
    }
   ],
   "source": [
    "cell_mask.shape"
   ]
  },
  {
   "cell_type": "code",
   "execution_count": 50,
   "metadata": {},
   "outputs": [
    {
     "ename": "ValueError",
     "evalue": "operands could not be broadcast together with shapes (459,47,47) (459,2,47,47) ",
     "output_type": "error",
     "traceback": [
      "\u001b[0;31m---------------------------------------------------------------------------\u001b[0m",
      "\u001b[0;31mValueError\u001b[0m                                Traceback (most recent call last)",
      "Cell \u001b[0;32mIn[50], line 1\u001b[0m\n\u001b[0;32m----> 1\u001b[0m blob_labels, blob_trj \u001b[38;5;241m=\u001b[39m \u001b[43mmq\u001b[49m\u001b[38;5;241;43m.\u001b[39;49m\u001b[43msegment_and_track_dna_blobs\u001b[49m\u001b[43m(\u001b[49m\u001b[43mpimg\u001b[49m\u001b[43m[\u001b[49m\u001b[43m:\u001b[49m\u001b[43m,\u001b[49m\u001b[38;5;241;43m1\u001b[39;49m\u001b[43m]\u001b[49m\u001b[43m,\u001b[49m\u001b[43m \u001b[49m\u001b[43mcell_mask\u001b[49m\u001b[43m)\u001b[49m\n",
      "File \u001b[0;32m~/work/code/baum/dna-movement-sufolobus/motionquant.py:178\u001b[0m, in \u001b[0;36msegment_and_track_dna_blobs\u001b[0;34m(img, mask)\u001b[0m\n\u001b[1;32m    163\u001b[0m \u001b[38;5;250m\u001b[39m\u001b[38;5;124;03m\"\"\"Analyze the blobs of DNA\u001b[39;00m\n\u001b[1;32m    164\u001b[0m \n\u001b[1;32m    165\u001b[0m \u001b[38;5;124;03mParameters\u001b[39;00m\n\u001b[0;32m   (...)\u001b[0m\n\u001b[1;32m    175\u001b[0m \u001b[38;5;124;03m    segmented blobs labels sorted by track length\u001b[39;00m\n\u001b[1;32m    176\u001b[0m \u001b[38;5;124;03m\"\"\"\u001b[39;00m\n\u001b[1;32m    177\u001b[0m blob \u001b[38;5;241m=\u001b[39m img \u001b[38;5;241m-\u001b[39m ndi\u001b[38;5;241m.\u001b[39mgaussian_filter(img, [\u001b[38;5;241m1\u001b[39m, \u001b[38;5;241m5\u001b[39m, \u001b[38;5;241m5\u001b[39m])\n\u001b[0;32m--> 178\u001b[0m blob \u001b[38;5;241m=\u001b[39m \u001b[43m(\u001b[49m\u001b[43mblob\u001b[49m\u001b[43m \u001b[49m\u001b[38;5;241;43m>\u001b[39;49m\u001b[43m \u001b[49m\u001b[43m(\u001b[49m\u001b[43mnp\u001b[49m\u001b[38;5;241;43m.\u001b[39;49m\u001b[43mmedian\u001b[49m\u001b[43m(\u001b[49m\u001b[43mblob\u001b[49m\u001b[43m)\u001b[49m\u001b[43m \u001b[49m\u001b[38;5;241;43m+\u001b[39;49m\u001b[43m \u001b[49m\u001b[38;5;241;43m0.5\u001b[39;49m\u001b[43m \u001b[49m\u001b[38;5;241;43m*\u001b[39;49m\u001b[43m \u001b[49m\u001b[43mblob\u001b[49m\u001b[38;5;241;43m.\u001b[39;49m\u001b[43mstd\u001b[49m\u001b[43m(\u001b[49m\u001b[43m)\u001b[49m\u001b[43m)\u001b[49m\u001b[43m)\u001b[49m\u001b[43m \u001b[49m\u001b[38;5;241;43m*\u001b[39;49m\u001b[43m \u001b[49m\u001b[43mmask\u001b[49m\u001b[38;5;241;43m.\u001b[39;49m\u001b[43msqueeze\u001b[49m\u001b[43m(\u001b[49m\u001b[43m)\u001b[49m\n\u001b[1;32m    179\u001b[0m blob \u001b[38;5;241m=\u001b[39m ndi\u001b[38;5;241m.\u001b[39mmedian_filter(blob, [\u001b[38;5;241m3\u001b[39m, \u001b[38;5;241m5\u001b[39m, \u001b[38;5;241m5\u001b[39m])\n\u001b[1;32m    180\u001b[0m blob \u001b[38;5;241m=\u001b[39m np\u001b[38;5;241m.\u001b[39mstack([ndi\u001b[38;5;241m.\u001b[39mlabel(b)[\u001b[38;5;241m0\u001b[39m] \u001b[38;5;28;01mfor\u001b[39;00m b \u001b[38;5;129;01min\u001b[39;00m blob])\n",
      "\u001b[0;31mValueError\u001b[0m: operands could not be broadcast together with shapes (459,47,47) (459,2,47,47) "
     ]
    }
   ],
   "source": [
    "blob_labels, blob_trj = mq.segment_and_track_dna_blobs(pimg[:,1], cell_mask)"
   ]
  },
  {
   "cell_type": "code",
   "execution_count": null,
   "metadata": {},
   "outputs": [],
   "source": [
    "count, area, asymmetry_area, intensity, asymmetry_int, tmp = mq.blob_area_num_asymmetry(pimg[:,1], mask)\n",
    "\n",
    "fig,ax = plt.subplots(5,1)\n",
    "ax[0].plot(count)\n",
    "ax[1].plot(area)\n",
    "ax[2].plot(asymmetry_area)\n",
    "ax[3].plot(intensity)\n",
    "ax[4].plot(asymmetry_int)"
   ]
  },
  {
   "cell_type": "code",
   "execution_count": null,
   "metadata": {},
   "outputs": [],
   "source": [
    "t = 100\n",
    "plt.imshow(mask[t,0]+2*tmp[t] + pimg[t,1])"
   ]
  },
  {
   "cell_type": "code",
   "execution_count": null,
   "metadata": {},
   "outputs": [],
   "source": [
    "import matplotlib.pyplot as plt\n",
    "from skimage import measure\n",
    "\n",
    "plt.imshow(mq.uv2rgb(img[300]))\n",
    "for c in measure.find_contours(mask[0, 0], 0.5):\n",
    "        plt.plot(c[:, 1], c[:, 0], \"w\")\n",
    "plt.plot(position[2:,1], position[2:,0])"
   ]
  },
  {
   "cell_type": "code",
   "execution_count": null,
   "metadata": {},
   "outputs": [],
   "source": [
    "fig, ax = plt.subplots(1,6, figsize=(15,5))\n",
    "mq.figure(ax,\"vv\",img, mask, position, speed, diff, flow, rho, div)"
   ]
  },
  {
   "cell_type": "code",
   "execution_count": null,
   "metadata": {},
   "outputs": [],
   "source": [
    "mq.strip(filename.stem, img, mask, position, speed, diff, flow, rho, div, \"Greys\", step=20, quiver=False)\n",
    "plt.savefig('tmp.pdf')"
   ]
  },
  {
   "cell_type": "code",
   "execution_count": null,
   "metadata": {},
   "outputs": [],
   "source": [
    "import napari\n",
    "v = napari.view_image(img,channel_axis=1)\n",
    "v.add_labels(mask.squeeze())\n",
    "v.add_points(position,ndim=2)"
   ]
  },
  {
   "cell_type": "code",
   "execution_count": null,
   "metadata": {},
   "outputs": [],
   "source": [
    "import colorsys\n",
    "print(flow.max())\n",
    "\n",
    "def vec2rgb(x):\n",
    "    h = (np.arctan2(x[0],x[1])+3.1415) / (2*3.1415)\n",
    "    v = np.linalg.norm(x,axis=0)    \n",
    "    y = np.stack((h,v),-1).reshape(x.shape[1]*x.shape[2],2)         \n",
    "    return np.stack([colorsys.hsv_to_rgb(hv[0],hv[1],1) for hv in y],0).reshape([x.shape[1],x.shape[2],3])\n",
    "\n",
    "x,y = np.meshgrid(np.linspace(-1,1),np.linspace(-1,1))\n",
    "plt.imshow(vec2rgb(np.stack((x,y))))\n",
    "#plt.imshow(vec2rgb(flow[100]))\n"
   ]
  }
 ],
 "metadata": {
  "kernelspec": {
   "display_name": "imaging",
   "language": "python",
   "name": "python3"
  },
  "language_info": {
   "codemirror_mode": {
    "name": "ipython",
    "version": 3
   },
   "file_extension": ".py",
   "mimetype": "text/x-python",
   "name": "python",
   "nbconvert_exporter": "python",
   "pygments_lexer": "ipython3",
   "version": "3.9.16"
  }
 },
 "nbformat": 4,
 "nbformat_minor": 2
}
