{
 "cells": [
  {
   "cell_type": "code",
   "execution_count": 1,
   "metadata": {},
   "outputs": [],
   "source": [
    "%load_ext autoreload\n",
    "%autoreload 2"
   ]
  },
  {
   "cell_type": "code",
   "execution_count": 164,
   "metadata": {},
   "outputs": [
    {
     "name": "stdout",
     "output_type": "stream",
     "text": [
      "/media/cephfs2/jparham/Joe for Jerome /Divisions with G2toConstriction/01a_DSM639_SyS_CM_Cell_2.tif\n",
      "(600, 1, 45, 45)\n"
     ]
    }
   ],
   "source": [
    "from pathlib import Path\n",
    "import tifffile\n",
    "import motionquant as mq\n",
    "import pandas as pd\n",
    "import numpy as np\n",
    "import matplotlib.pyplot as plt\n",
    "# list files from the src folder\n",
    "src = Path('/media/cephfs2/jparham/Joe for Jerome /')\n",
    "filelist = pd.read_csv('filelist.csv')\n",
    "#src = Path('/media/cephfs2/jparham/For Jerome/Divisions with G2toConstriction/')\n",
    "dst = Path('./')\n",
    "\n",
    "# filelist = pd.DataFrame.from_records(\n",
    "#     [{'path':f,'name':f.stem} for f in src.glob('[!.]*.tif')]\n",
    "# )\n",
    "# filelist.head()\n",
    "\n",
    "filename = filelist['path'].iloc[50]\n",
    "print(filename)\n",
    "img = tifffile.imread(filename)\n",
    "pimg = mq.preprocess(img, 100)\n",
    "#mask, position = mq.segment_and_track(pimg)\n",
    "cell_mask, cell_trj = mq.segment_and_track_cell(pimg)\n",
    "print(cell_mask.shape)"
   ]
  },
  {
   "cell_type": "code",
   "execution_count": 144,
   "metadata": {},
   "outputs": [
    {
     "data": {
      "text/html": [
       "<div>\n",
       "<style scoped>\n",
       "    .dataframe tbody tr th:only-of-type {\n",
       "        vertical-align: middle;\n",
       "    }\n",
       "\n",
       "    .dataframe tbody tr th {\n",
       "        vertical-align: top;\n",
       "    }\n",
       "\n",
       "    .dataframe thead th {\n",
       "        text-align: right;\n",
       "    }\n",
       "</style>\n",
       "<table border=\"1\" class=\"dataframe\">\n",
       "  <thead>\n",
       "    <tr style=\"text-align: right;\">\n",
       "      <th></th>\n",
       "      <th>Unnamed: 0</th>\n",
       "      <th>path</th>\n",
       "      <th>name</th>\n",
       "      <th>condition</th>\n",
       "    </tr>\n",
       "  </thead>\n",
       "  <tbody>\n",
       "    <tr>\n",
       "      <th>57</th>\n",
       "      <td>57</td>\n",
       "      <td>/media/cephfs2/jparham/Joe for Jerome /Divisio...</td>\n",
       "      <td>01a_DSM639_SyS_CM_Cell_9.tif</td>\n",
       "      <td>wt</td>\n",
       "    </tr>\n",
       "  </tbody>\n",
       "</table>\n",
       "</div>"
      ],
      "text/plain": [
       "    Unnamed: 0                                               path  \\\n",
       "57          57  /media/cephfs2/jparham/Joe for Jerome /Divisio...   \n",
       "\n",
       "                            name condition  \n",
       "57  01a_DSM639_SyS_CM_Cell_9.tif        wt  "
      ]
     },
     "execution_count": 144,
     "metadata": {},
     "output_type": "execute_result"
    }
   ],
   "source": [
    "filelist[filelist['name'] == '01a_DSM639_SyS_CM_Cell_9.tif']"
   ]
  },
  {
   "cell_type": "code",
   "execution_count": 135,
   "metadata": {},
   "outputs": [
    {
     "data": {
      "text/plain": [
       "PosixPath('/media/cephfs2/jparham/For Jerome/Divisions with G2toConstriction/01a_DSM639_SyS_CM_Cell_11.tif')"
      ]
     },
     "execution_count": 135,
     "metadata": {},
     "output_type": "execute_result"
    }
   ],
   "source": [
    "filename"
   ]
  },
  {
   "cell_type": "code",
   "execution_count": null,
   "metadata": {},
   "outputs": [],
   "source": [
    "for t in range(0,300,50):\n",
    "    plt.imshow(30*labels[t,0] + img[t,0])\n",
    "    plt.show()\n"
   ]
  },
  {
   "cell_type": "markdown",
   "metadata": {},
   "source": [
    "Motion analysis"
   ]
  },
  {
   "cell_type": "code",
   "execution_count": 49,
   "metadata": {},
   "outputs": [
    {
     "name": "stdout",
     "output_type": "stream",
     "text": [
      "(458, 1, 47, 47) (458, 2, 47, 47) (458, 2, 47, 47) (458, 1, 47, 47)\n"
     ]
    }
   ],
   "source": [
    "diff = mq.frame_differences(pimg[:,1])\n",
    "flow = mq.compute_flow(pimg[:,1])\n",
    "rho = mq.momentum(pimg[:-1,1], flow)\n",
    "div = mq.divergence(rho)\n",
    "print(diff.shape, flow.shape, rho.shape, div.shape)\n"
   ]
  },
  {
   "cell_type": "code",
   "execution_count": 51,
   "metadata": {},
   "outputs": [
    {
     "data": {
      "text/plain": [
       "(459, 2, 47, 47)"
      ]
     },
     "execution_count": 51,
     "metadata": {},
     "output_type": "execute_result"
    }
   ],
   "source": [
    "cell_mask.shape"
   ]
  },
  {
   "cell_type": "code",
   "execution_count": 298,
   "metadata": {},
   "outputs": [
    {
     "name": "stdout",
     "output_type": "stream",
     "text": [
      "          count\n",
      "particle       \n",
      "1           484\n",
      "0           156\n",
      "{1: 1, 0: 2}\n"
     ]
    }
   ],
   "source": [
    "blob_labels, blob_trj = mq.segment_and_track_dna_blobs(pimg[:,1], cell_mask)"
   ]
  },
  {
   "cell_type": "code",
   "execution_count": 299,
   "metadata": {},
   "outputs": [
    {
     "name": "stdout",
     "output_type": "stream",
     "text": [
      "1 484\n",
      "2 156\n"
     ]
    },
    {
     "data": {
      "image/png": "[encoded data removed]",
      "text/plain": [
       "<Figure size 640x480 with 1 Axes>"
      ]
     },
     "metadata": {},
     "output_type": "display_data"
    }
   ],
   "source": [
    "import numpy as np\n",
    "for k in range(1,1+int(blob_labels.max())):\n",
    "    y = (blob_labels==k).sum(axis=(1,2))\n",
    "    print(k,np.sum(y>0))\n",
    "    plt.plot(y)\n"
   ]
  },
  {
   "cell_type": "code",
   "execution_count": 301,
   "metadata": {},
   "outputs": [
    {
     "data": {
      "text/plain": [
       "<matplotlib.image.AxesImage at 0x7f329edff970>"
      ]
     },
     "execution_count": 301,
     "metadata": {},
     "output_type": "execute_result"
    },
    {
     "data": {
      "image/png": "[encoded data removed]",
      "text/plain": [
       "<Figure size 640x480 with 2 Axes>"
      ]
     },
     "metadata": {},
     "output_type": "display_data"
    }
   ],
   "source": [
    "plt.subplot(121)\n",
    "plt.imshow(pimg[125,1])\n",
    "plt.subplot(122)\n",
    "plt.imshow(blob_labels[125])\n",
    "# from scipy import ndimage as ndi\n",
    "# plt.imshow(ndi.gaussian_filter(ndi.distance_transform_edt(blob_labels[115]),2))\n",
    "# d = ndi.gaussian_filter(ndi.distance_transform_edt(blob_labels[115]),2)\n",
    "# plt.imshow(d==ndi.maximum_filter(d,5))"
   ]
  },
  {
   "cell_type": "code",
   "execution_count": 134,
   "metadata": {},
   "outputs": [
    {
     "data": {
      "text/plain": [
       "2.0"
      ]
     },
     "execution_count": 134,
     "metadata": {},
     "output_type": "execute_result"
    }
   ],
   "source": [
    "blob_labels.max()"
   ]
  },
  {
   "cell_type": "code",
   "execution_count": 56,
   "metadata": {},
   "outputs": [],
   "source": [
    "mq.save_result(\"tmp.h5\",\"tmp\",img,cell_mask,cell_trj,diff,flow,rho,div,blob_labels,blob_trj)"
   ]
  },
  {
   "cell_type": "code",
   "execution_count": null,
   "metadata": {},
   "outputs": [],
   "source": [
    "pd.read_hdf(\"tmp.h5\",\"tmp/\")"
   ]
  },
  {
   "cell_type": "code",
   "execution_count": 68,
   "metadata": {},
   "outputs": [
    {
     "data": {
      "text/plain": [
       "['tmp']"
      ]
     },
     "execution_count": 68,
     "metadata": {},
     "output_type": "execute_result"
    }
   ],
   "source": [
    "mq.inspect_result(\"tmp.h5\")"
   ]
  },
  {
   "cell_type": "code",
   "execution_count": 70,
   "metadata": {},
   "outputs": [],
   "source": [
    "img, cell_mask, cell_trj, diff, flow, rho, div, blob_labels, blob_trj = mq.load_result(\"tmp.h5\",\"tmp\")"
   ]
  },
  {
   "cell_type": "code",
   "execution_count": 125,
   "metadata": {},
   "outputs": [],
   "source": [
    "df = mq.record(filename, img, cell_mask, cell_trj, diff, flow, rho, div, blob_labels, blob_trj)"
   ]
  },
  {
   "cell_type": "code",
   "execution_count": 127,
   "metadata": {},
   "outputs": [
    {
     "data": {
      "text/html": [
       "<div>\n",
       "<style scoped>\n",
       "    .dataframe tbody tr th:only-of-type {\n",
       "        vertical-align: middle;\n",
       "    }\n",
       "\n",
       "    .dataframe tbody tr th {\n",
       "        vertical-align: top;\n",
       "    }\n",
       "\n",
       "    .dataframe thead th {\n",
       "        text-align: right;\n",
       "    }\n",
       "</style>\n",
       "<table border=\"1\" class=\"dataframe\">\n",
       "  <thead>\n",
       "    <tr style=\"text-align: right;\">\n",
       "      <th></th>\n",
       "      <th>filename</th>\n",
       "      <th>frame</th>\n",
       "      <th>cell-x</th>\n",
       "      <th>cell-y</th>\n",
       "      <th>cell-area</th>\n",
       "      <th>diff</th>\n",
       "      <th>flow</th>\n",
       "      <th>momentum</th>\n",
       "      <th>divergence</th>\n",
       "      <th>dna mean intensity</th>\n",
       "      <th>dna blob count</th>\n",
       "      <th>dna blob area</th>\n",
       "      <th>dna blob 1 sum intensity</th>\n",
       "      <th>dna blob 2 sum intensity</th>\n",
       "    </tr>\n",
       "  </thead>\n",
       "  <tbody>\n",
       "    <tr>\n",
       "      <th>0</th>\n",
       "      <td>/media/cephfs2/jparham/For Jerome/Divisions wi...</td>\n",
       "      <td>0</td>\n",
       "      <td>23.115453</td>\n",
       "      <td>19.726465</td>\n",
       "      <td>563.0</td>\n",
       "      <td>0.003315</td>\n",
       "      <td>0.321202</td>\n",
       "      <td>0.991957</td>\n",
       "      <td>0.014952</td>\n",
       "      <td>102.632327</td>\n",
       "      <td>1</td>\n",
       "      <td>172</td>\n",
       "      <td>18270</td>\n",
       "      <td>0</td>\n",
       "    </tr>\n",
       "    <tr>\n",
       "      <th>1</th>\n",
       "      <td>/media/cephfs2/jparham/For Jerome/Divisions wi...</td>\n",
       "      <td>1</td>\n",
       "      <td>23.119643</td>\n",
       "      <td>19.792857</td>\n",
       "      <td>560.0</td>\n",
       "      <td>0.100472</td>\n",
       "      <td>0.546515</td>\n",
       "      <td>1.582857</td>\n",
       "      <td>0.028348</td>\n",
       "      <td>102.491071</td>\n",
       "      <td>1</td>\n",
       "      <td>171</td>\n",
       "      <td>18108</td>\n",
       "      <td>0</td>\n",
       "    </tr>\n",
       "    <tr>\n",
       "      <th>2</th>\n",
       "      <td>/media/cephfs2/jparham/For Jerome/Divisions wi...</td>\n",
       "      <td>2</td>\n",
       "      <td>23.111511</td>\n",
       "      <td>19.929856</td>\n",
       "      <td>556.0</td>\n",
       "      <td>0.058791</td>\n",
       "      <td>0.371621</td>\n",
       "      <td>0.977386</td>\n",
       "      <td>0.011656</td>\n",
       "      <td>102.753597</td>\n",
       "      <td>1</td>\n",
       "      <td>174</td>\n",
       "      <td>18426</td>\n",
       "      <td>0</td>\n",
       "    </tr>\n",
       "    <tr>\n",
       "      <th>3</th>\n",
       "      <td>/media/cephfs2/jparham/For Jerome/Divisions wi...</td>\n",
       "      <td>3</td>\n",
       "      <td>23.128159</td>\n",
       "      <td>20.009025</td>\n",
       "      <td>554.0</td>\n",
       "      <td>-0.000679</td>\n",
       "      <td>0.225626</td>\n",
       "      <td>0.656095</td>\n",
       "      <td>-0.002365</td>\n",
       "      <td>102.981949</td>\n",
       "      <td>1</td>\n",
       "      <td>187</td>\n",
       "      <td>19888</td>\n",
       "      <td>0</td>\n",
       "    </tr>\n",
       "    <tr>\n",
       "      <th>4</th>\n",
       "      <td>/media/cephfs2/jparham/For Jerome/Divisions wi...</td>\n",
       "      <td>4</td>\n",
       "      <td>23.161580</td>\n",
       "      <td>20.014363</td>\n",
       "      <td>557.0</td>\n",
       "      <td>-0.095538</td>\n",
       "      <td>0.262810</td>\n",
       "      <td>0.891222</td>\n",
       "      <td>-0.009931</td>\n",
       "      <td>102.833034</td>\n",
       "      <td>1</td>\n",
       "      <td>185</td>\n",
       "      <td>19599</td>\n",
       "      <td>0</td>\n",
       "    </tr>\n",
       "    <tr>\n",
       "      <th>...</th>\n",
       "      <td>...</td>\n",
       "      <td>...</td>\n",
       "      <td>...</td>\n",
       "      <td>...</td>\n",
       "      <td>...</td>\n",
       "      <td>...</td>\n",
       "      <td>...</td>\n",
       "      <td>...</td>\n",
       "      <td>...</td>\n",
       "      <td>...</td>\n",
       "      <td>...</td>\n",
       "      <td>...</td>\n",
       "      <td>...</td>\n",
       "      <td>...</td>\n",
       "    </tr>\n",
       "    <tr>\n",
       "      <th>453</th>\n",
       "      <td>/media/cephfs2/jparham/For Jerome/Divisions wi...</td>\n",
       "      <td>453</td>\n",
       "      <td>35.608563</td>\n",
       "      <td>24.623853</td>\n",
       "      <td>327.0</td>\n",
       "      <td>-0.024853</td>\n",
       "      <td>0.282780</td>\n",
       "      <td>0.348048</td>\n",
       "      <td>0.007917</td>\n",
       "      <td>101.366972</td>\n",
       "      <td>1</td>\n",
       "      <td>69</td>\n",
       "      <td>7158</td>\n",
       "      <td>0</td>\n",
       "    </tr>\n",
       "    <tr>\n",
       "      <th>454</th>\n",
       "      <td>/media/cephfs2/jparham/For Jerome/Divisions wi...</td>\n",
       "      <td>454</td>\n",
       "      <td>35.493865</td>\n",
       "      <td>24.748466</td>\n",
       "      <td>326.0</td>\n",
       "      <td>0.004262</td>\n",
       "      <td>0.183378</td>\n",
       "      <td>0.221274</td>\n",
       "      <td>0.004832</td>\n",
       "      <td>101.309816</td>\n",
       "      <td>1</td>\n",
       "      <td>72</td>\n",
       "      <td>7478</td>\n",
       "      <td>0</td>\n",
       "    </tr>\n",
       "    <tr>\n",
       "      <th>455</th>\n",
       "      <td>/media/cephfs2/jparham/For Jerome/Divisions wi...</td>\n",
       "      <td>455</td>\n",
       "      <td>35.455385</td>\n",
       "      <td>24.836923</td>\n",
       "      <td>325.0</td>\n",
       "      <td>0.028461</td>\n",
       "      <td>0.214862</td>\n",
       "      <td>0.208301</td>\n",
       "      <td>0.000866</td>\n",
       "      <td>101.544615</td>\n",
       "      <td>1</td>\n",
       "      <td>72</td>\n",
       "      <td>7448</td>\n",
       "      <td>0</td>\n",
       "    </tr>\n",
       "    <tr>\n",
       "      <th>456</th>\n",
       "      <td>/media/cephfs2/jparham/For Jerome/Divisions wi...</td>\n",
       "      <td>456</td>\n",
       "      <td>35.555556</td>\n",
       "      <td>24.916667</td>\n",
       "      <td>324.0</td>\n",
       "      <td>0.056117</td>\n",
       "      <td>0.363343</td>\n",
       "      <td>0.465690</td>\n",
       "      <td>-0.003673</td>\n",
       "      <td>101.336420</td>\n",
       "      <td>1</td>\n",
       "      <td>70</td>\n",
       "      <td>7244</td>\n",
       "      <td>0</td>\n",
       "    </tr>\n",
       "    <tr>\n",
       "      <th>457</th>\n",
       "      <td>/media/cephfs2/jparham/For Jerome/Divisions wi...</td>\n",
       "      <td>457</td>\n",
       "      <td>35.567568</td>\n",
       "      <td>24.867868</td>\n",
       "      <td>333.0</td>\n",
       "      <td>0.039321</td>\n",
       "      <td>0.290094</td>\n",
       "      <td>0.363477</td>\n",
       "      <td>-0.022163</td>\n",
       "      <td>101.612613</td>\n",
       "      <td>1</td>\n",
       "      <td>72</td>\n",
       "      <td>7535</td>\n",
       "      <td>0</td>\n",
       "    </tr>\n",
       "  </tbody>\n",
       "</table>\n",
       "<p>458 rows × 14 columns</p>\n",
       "</div>"
      ],
      "text/plain": [
       "                                              filename  frame     cell-x  \\\n",
       "0    /media/cephfs2/jparham/For Jerome/Divisions wi...      0  23.115453   \n",
       "1    /media/cephfs2/jparham/For Jerome/Divisions wi...      1  23.119643   \n",
       "2    /media/cephfs2/jparham/For Jerome/Divisions wi...      2  23.111511   \n",
       "3    /media/cephfs2/jparham/For Jerome/Divisions wi...      3  23.128159   \n",
       "4    /media/cephfs2/jparham/For Jerome/Divisions wi...      4  23.161580   \n",
       "..                                                 ...    ...        ...   \n",
       "453  /media/cephfs2/jparham/For Jerome/Divisions wi...    453  35.608563   \n",
       "454  /media/cephfs2/jparham/For Jerome/Divisions wi...    454  35.493865   \n",
       "455  /media/cephfs2/jparham/For Jerome/Divisions wi...    455  35.455385   \n",
       "456  /media/cephfs2/jparham/For Jerome/Divisions wi...    456  35.555556   \n",
       "457  /media/cephfs2/jparham/For Jerome/Divisions wi...    457  35.567568   \n",
       "\n",
       "        cell-y  cell-area      diff      flow  momentum  divergence  \\\n",
       "0    19.726465      563.0  0.003315  0.321202  0.991957    0.014952   \n",
       "1    19.792857      560.0  0.100472  0.546515  1.582857    0.028348   \n",
       "2    19.929856      556.0  0.058791  0.371621  0.977386    0.011656   \n",
       "3    20.009025      554.0 -0.000679  0.225626  0.656095   -0.002365   \n",
       "4    20.014363      557.0 -0.095538  0.262810  0.891222   -0.009931   \n",
       "..         ...        ...       ...       ...       ...         ...   \n",
       "453  24.623853      327.0 -0.024853  0.282780  0.348048    0.007917   \n",
       "454  24.748466      326.0  0.004262  0.183378  0.221274    0.004832   \n",
       "455  24.836923      325.0  0.028461  0.214862  0.208301    0.000866   \n",
       "456  24.916667      324.0  0.056117  0.363343  0.465690   -0.003673   \n",
       "457  24.867868      333.0  0.039321  0.290094  0.363477   -0.022163   \n",
       "\n",
       "     dna mean intensity  dna blob count  dna blob area  \\\n",
       "0            102.632327               1            172   \n",
       "1            102.491071               1            171   \n",
       "2            102.753597               1            174   \n",
       "3            102.981949               1            187   \n",
       "4            102.833034               1            185   \n",
       "..                  ...             ...            ...   \n",
       "453          101.366972               1             69   \n",
       "454          101.309816               1             72   \n",
       "455          101.544615               1             72   \n",
       "456          101.336420               1             70   \n",
       "457          101.612613               1             72   \n",
       "\n",
       "     dna blob 1 sum intensity  dna blob 2 sum intensity  \n",
       "0                       18270                         0  \n",
       "1                       18108                         0  \n",
       "2                       18426                         0  \n",
       "3                       19888                         0  \n",
       "4                       19599                         0  \n",
       "..                        ...                       ...  \n",
       "453                      7158                         0  \n",
       "454                      7478                         0  \n",
       "455                      7448                         0  \n",
       "456                      7244                         0  \n",
       "457                      7535                         0  \n",
       "\n",
       "[458 rows x 14 columns]"
      ]
     },
     "execution_count": 127,
     "metadata": {},
     "output_type": "execute_result"
    }
   ],
   "source": [
    "df"
   ]
  },
  {
   "cell_type": "code",
   "execution_count": 98,
   "metadata": {},
   "outputs": [
    {
     "data": {
      "text/plain": [
       "<matplotlib.image.AxesImage at 0x7f32a9df47c0>"
      ]
     },
     "execution_count": 98,
     "metadata": {},
     "output_type": "execute_result"
    },
    {
     "data": {
      "image/png": "[encoded data removed]",
      "text/plain": [
       "<Figure size 640x480 with 1 Axes>"
      ]
     },
     "metadata": {},
     "output_type": "display_data"
    }
   ],
   "source": [
    "plt.imshow(diff[10,0]*cell_mask[10,0])"
   ]
  },
  {
   "cell_type": "code",
   "execution_count": 115,
   "metadata": {},
   "outputs": [
    {
     "data": {
      "text/plain": [
       "<matplotlib.image.AxesImage at 0x7f32a9674400>"
      ]
     },
     "execution_count": 115,
     "metadata": {},
     "output_type": "execute_result"
    },
    {
     "data": {
      "image/png": "[encoded data removed]",
      "text/plain": [
       "<Figure size 640x480 with 1 Axes>"
      ]
     },
     "metadata": {},
     "output_type": "display_data"
    }
   ],
   "source": [
    "plt.imshow(blob_labels[200]==1)"
   ]
  },
  {
   "cell_type": "code",
   "execution_count": 129,
   "metadata": {},
   "outputs": [
    {
     "data": {
      "text/plain": [
       "[<matplotlib.lines.Line2D at 0x7f32a92fb2b0>]"
      ]
     },
     "execution_count": 129,
     "metadata": {},
     "output_type": "execute_result"
    },
    {
     "data": {
      "image/png": "[encoded data removed]",
      "text/plain": [
       "<Figure size 640x480 with 1 Axes>"
      ]
     },
     "metadata": {},
     "output_type": "display_data"
    }
   ],
   "source": [
    "plt.plot(df[\"frame\"],df[\"dna blob 1 sum intensity\"])"
   ]
  },
  {
   "cell_type": "code",
   "execution_count": 74,
   "metadata": {},
   "outputs": [
    {
     "data": {
      "text/plain": [
       "array([0, 1])"
      ]
     },
     "execution_count": 74,
     "metadata": {},
     "output_type": "execute_result"
    }
   ],
   "source": [
    "blob_trj['particle'].unique()"
   ]
  },
  {
   "cell_type": "code",
   "execution_count": null,
   "metadata": {},
   "outputs": [],
   "source": [
    "count, area, asymmetry_area, intensity, asymmetry_int, tmp = mq.blob_area_num_asymmetry(pimg[:,1], mask)\n",
    "\n",
    "fig,ax = plt.subplots(5,1)\n",
    "ax[0].plot(count)\n",
    "ax[1].plot(area)\n",
    "ax[2].plot(asymmetry_area)\n",
    "ax[3].plot(intensity)\n",
    "ax[4].plot(asymmetry_int)"
   ]
  },
  {
   "cell_type": "code",
   "execution_count": null,
   "metadata": {},
   "outputs": [],
   "source": [
    "t = 100\n",
    "plt.imshow(mask[t,0]+2*tmp[t] + pimg[t,1])"
   ]
  },
  {
   "cell_type": "code",
   "execution_count": null,
   "metadata": {},
   "outputs": [],
   "source": [
    "import matplotlib.pyplot as plt\n",
    "from skimage import measure\n",
    "\n",
    "plt.imshow(mq.uv2rgb(img[300]))\n",
    "for c in measure.find_contours(mask[0, 0], 0.5):\n",
    "        plt.plot(c[:, 1], c[:, 0], \"w\")\n",
    "plt.plot(position[2:,1], position[2:,0])"
   ]
  },
  {
   "cell_type": "code",
   "execution_count": null,
   "metadata": {},
   "outputs": [],
   "source": [
    "fig, ax = plt.subplots(1,6, figsize=(15,5))\n",
    "mq.figure(ax,\"vv\",img, mask, position, speed, diff, flow, rho, div)"
   ]
  },
  {
   "cell_type": "code",
   "execution_count": null,
   "metadata": {},
   "outputs": [],
   "source": [
    "mq.strip(filename.stem, img, mask, position, speed, diff, flow, rho, div, \"Greys\", step=20, quiver=False)\n",
    "plt.savefig('tmp.pdf')"
   ]
  },
  {
   "cell_type": "code",
   "execution_count": null,
   "metadata": {},
   "outputs": [],
   "source": [
    "import napari\n",
    "v = napari.view_image(img,channel_axis=1)\n",
    "v.add_labels(mask.squeeze())\n",
    "v.add_points(position,ndim=2)"
   ]
  },
  {
   "cell_type": "code",
   "execution_count": null,
   "metadata": {},
   "outputs": [],
   "source": [
    "import colorsys\n",
    "print(flow.max())\n",
    "\n",
    "def vec2rgb(x):\n",
    "    h = (np.arctan2(x[0],x[1])+3.1415) / (2*3.1415)\n",
    "    v = np.linalg.norm(x,axis=0)    \n",
    "    y = np.stack((h,v),-1).reshape(x.shape[1]*x.shape[2],2)         \n",
    "    return np.stack([colorsys.hsv_to_rgb(hv[0],hv[1],1) for hv in y],0).reshape([x.shape[1],x.shape[2],3])\n",
    "\n",
    "x,y = np.meshgrid(np.linspace(-1,1),np.linspace(-1,1))\n",
    "plt.imshow(vec2rgb(np.stack((x,y))))\n",
    "#plt.imshow(vec2rgb(flow[100]))\n"
   ]
  }
 ],
 "metadata": {
  "kernelspec": {
   "display_name": "imaging",
   "language": "python",
   "name": "python3"
  },
  "language_info": {
   "codemirror_mode": {
    "name": "ipython",
    "version": 3
   },
   "file_extension": ".py",
   "mimetype": "text/x-python",
   "name": "python",
   "nbconvert_exporter": "python",
   "pygments_lexer": "ipython3",
   "version": "3.9.16"
  }
 },
 "nbformat": 4,
 "nbformat_minor": 2
}
