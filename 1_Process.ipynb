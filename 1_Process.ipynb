{
 "cells": [
  {
   "cell_type": "markdown",
   "metadata": {},
   "source": [
    "# Process all file in folder\n",
    "\n",
    "\n",
    "\n"
   ]
  },
  {
   "cell_type": "code",
   "execution_count": 1,
   "metadata": {},
   "outputs": [],
   "source": [
    "%load_ext autoreload\n",
    "%autoreload 2"
   ]
  },
  {
   "cell_type": "markdown",
   "metadata": {},
   "source": [
    "List the files to process in both conditions wt and sega"
   ]
  },
  {
   "cell_type": "code",
   "execution_count": 2,
   "metadata": {},
   "outputs": [
    {
     "name": "stdout",
     "output_type": "stream",
     "text": [
      "Number of files 62\n"
     ]
    },
    {
     "data": {
      "text/html": [
       "<div>\n",
       "<style scoped>\n",
       "    .dataframe tbody tr th:only-of-type {\n",
       "        vertical-align: middle;\n",
       "    }\n",
       "\n",
       "    .dataframe tbody tr th {\n",
       "        vertical-align: top;\n",
       "    }\n",
       "\n",
       "    .dataframe thead th {\n",
       "        text-align: right;\n",
       "    }\n",
       "</style>\n",
       "<table border=\"1\" class=\"dataframe\">\n",
       "  <thead>\n",
       "    <tr style=\"text-align: right;\">\n",
       "      <th></th>\n",
       "      <th>path</th>\n",
       "      <th>name</th>\n",
       "      <th>condition</th>\n",
       "    </tr>\n",
       "  </thead>\n",
       "  <tbody>\n",
       "    <tr>\n",
       "      <th>0</th>\n",
       "      <td>/media/cephfs2/jparham/Joe for Jerome /SegA Li...</td>\n",
       "      <td>01a_delSegA_CM_SyS_reg_Cell_0.tif</td>\n",
       "      <td>sega</td>\n",
       "    </tr>\n",
       "    <tr>\n",
       "      <th>1</th>\n",
       "      <td>/media/cephfs2/jparham/Joe for Jerome /SegA Li...</td>\n",
       "      <td>01a_delSegA_CM_SyS_reg_Cell_12.tif</td>\n",
       "      <td>sega</td>\n",
       "    </tr>\n",
       "    <tr>\n",
       "      <th>2</th>\n",
       "      <td>/media/cephfs2/jparham/Joe for Jerome /SegA Li...</td>\n",
       "      <td>01a_delSegA_CM_SyS_reg_Cell_13.tif</td>\n",
       "      <td>sega</td>\n",
       "    </tr>\n",
       "    <tr>\n",
       "      <th>3</th>\n",
       "      <td>/media/cephfs2/jparham/Joe for Jerome /SegA Li...</td>\n",
       "      <td>01a_delSegA_CM_SyS_reg_Cell_3.tif</td>\n",
       "      <td>sega</td>\n",
       "    </tr>\n",
       "    <tr>\n",
       "      <th>4</th>\n",
       "      <td>/media/cephfs2/jparham/Joe for Jerome /SegA Li...</td>\n",
       "      <td>01a_delSegA_CM_SyS_reg_Cell_11.tif</td>\n",
       "      <td>sega</td>\n",
       "    </tr>\n",
       "  </tbody>\n",
       "</table>\n",
       "</div>"
      ],
      "text/plain": [
       "                                                path  \\\n",
       "0  /media/cephfs2/jparham/Joe for Jerome /SegA Li...   \n",
       "1  /media/cephfs2/jparham/Joe for Jerome /SegA Li...   \n",
       "2  /media/cephfs2/jparham/Joe for Jerome /SegA Li...   \n",
       "3  /media/cephfs2/jparham/Joe for Jerome /SegA Li...   \n",
       "4  /media/cephfs2/jparham/Joe for Jerome /SegA Li...   \n",
       "\n",
       "                                 name condition  \n",
       "0   01a_delSegA_CM_SyS_reg_Cell_0.tif      sega  \n",
       "1  01a_delSegA_CM_SyS_reg_Cell_12.tif      sega  \n",
       "2  01a_delSegA_CM_SyS_reg_Cell_13.tif      sega  \n",
       "3   01a_delSegA_CM_SyS_reg_Cell_3.tif      sega  \n",
       "4  01a_delSegA_CM_SyS_reg_Cell_11.tif      sega  "
      ]
     },
     "execution_count": 2,
     "metadata": {},
     "output_type": "execute_result"
    }
   ],
   "source": [
    "import pandas as pd\n",
    "\n",
    "from pathlib import Path\n",
    "\n",
    "# list files from the src folder\n",
    "src = Path('/media/cephfs2/jparham/Joe for Jerome /')\n",
    "dst = Path('./')\n",
    "\n",
    "filelist = pd.concat((\n",
    "    pd.DataFrame.from_records(\n",
    "        [{'path':f, 'name':f.name, 'condition':'sega'}  for d in src.glob('*/*/Crop*') for f in d.glob('[!.]*.tif')]\n",
    "    ),\n",
    "    pd.DataFrame.from_records(\n",
    "    [{'path':f, 'name':f.name, 'condition':'wt'}  for d in src.glob('Div*') for f in d.glob('[!.]*.tif')]\n",
    ")),axis=0,ignore_index=True)\n",
    "\n",
    "print(f\"Number of files {len(filelist)}\")\n",
    "filelist.head()\n"
   ]
  },
  {
   "cell_type": "markdown",
   "metadata": {},
   "source": [
    "## Process all file"
   ]
  },
  {
   "cell_type": "code",
   "execution_count": null,
   "metadata": {},
   "outputs": [],
   "source": [
    "from tqdm.notebook import tqdm\n",
    "tqdm.pandas()\n",
    "import motionquant as mq\n",
    "import dask\n",
    "\n",
    "results_path = dst/Path('results.h5') # result\n",
    "if results_path.exists():\n",
    "    results_path.unlink()\n",
    "\n",
    "print(f\"Saving results in {results_path}\")\n",
    "\n",
    "df = []\n",
    "for filename in tqdm(filelist['path'].iloc):\n",
    "    try:\n",
    "        name = filename.stem        \n",
    "        img, mask, position, speed, diff, flow, rho, div, blob = mq.process(filename)\n",
    "        df.append(mq.record(name, img, mask, position, speed, diff, flow, rho, div, blob))\n",
    "        mq.save_result(results_path, name, img, mask, position, speed, diff, flow, rho, div, blob)\n",
    "    except Exception as e:\n",
    "        print(f\"file '{filename}' could not be processed\")\n",
    "        print(e)\n",
    "        pass\n"
   ]
  },
  {
   "cell_type": "markdown",
   "metadata": {},
   "source": [
    "## Parallel processing"
   ]
  },
  {
   "cell_type": "code",
   "execution_count": 3,
   "metadata": {},
   "outputs": [],
   "source": [
    "from dask.distributed import LocalCluster\n",
    "cluster = LocalCluster()          # Fully-featured local Dask cluster\n",
    "client = cluster.get_client()\n",
    "cluster.scale(8)"
   ]
  },
  {
   "cell_type": "code",
   "execution_count": 4,
   "metadata": {},
   "outputs": [
    {
     "name": "stdout",
     "output_type": "stream",
     "text": [
      "Saving results in results.h5\n"
     ]
    },
    {
     "name": "stderr",
     "output_type": "stream",
     "text": [
      "WARNING: no mask pixels found\n"
     ]
    },
    {
     "name": "stdout",
     "output_type": "stream",
     "text": [
      "file '/media/cephfs2/jparham/Joe for Jerome /SegA Live imaging /20240229_delSegA/CroppedDivisions/01a_delSegA_CM_SyS_reg_Cell_11.tif' could not be processed\n",
      "HDF5 error back trace\n",
      "\n",
      "  File \"H5F.c\", line 836, in H5Fopen\n",
      "    unable to synchronously open file\n",
      "  File \"H5F.c\", line 796, in H5F__open_api_common\n",
      "    unable to open file\n",
      "  File \"H5VLcallback.c\", line 3863, in H5VL_file_open\n",
      "    open failed\n",
      "  File \"H5VLcallback.c\", line 3675, in H5VL__file_open\n",
      "    open failed\n",
      "  File \"H5VLnative_file.c\", line 128, in H5VL__native_file_open\n",
      "    unable to open file\n",
      "  File \"H5Fint.c\", line 1873, in H5F_open\n",
      "    unable to lock the file\n",
      "  File \"H5FD.c\", line 2034, in H5FD_lock\n",
      "    driver lock request failed\n",
      "  File \"H5FDsec2.c\", line 988, in H5FD__sec2_lock\n",
      "    unable to lock file, errno = 11, error message = 'Resource temporarily unavailable'\n",
      "\n",
      "End of HDF5 error back trace\n",
      "\n",
      "Unable to open/create file 'results.h5'\n",
      "file '/media/cephfs2/jparham/Joe for Jerome /Divisions with G2toConstriction/01a_DSM639_SyS_CM_Cell_11.tif' could not be processed\n",
      "[Errno 11] Unable to open file (unable to lock file, errno = 11, error message = 'Resource temporarily unavailable')\n"
     ]
    }
   ],
   "source": [
    "import motionquant as mq\n",
    "import dask\n",
    "from dask.distributed import Lock\n",
    "import torch\n",
    "\n",
    "def process(filename, results_path):\n",
    "    name = filename.stem        \n",
    "    img, mask, position, speed, diff, flow, rho, div, blob = mq.process(filename)\n",
    "    lock = Lock('process-sufo')\n",
    "    lock.acquire()\n",
    "    mq.save_result(results_path, name, img, mask, position, speed, diff, flow, rho, div, blob)\n",
    "    lock.release()\n",
    "    df = mq.record(name, img, mask, position, speed, diff, flow, rho, div, blob)\n",
    "    return df\n",
    "\n",
    "def process_safe(filename, results_path):\n",
    "    try:\n",
    "        return process(filename, results_path)\n",
    "    except Exception as e:\n",
    "        print(f\"file '{filename}' could not be processed\")\n",
    "        print(e)\n",
    "        pass\n",
    "\n",
    "\n",
    "results_path = dst/Path('results.h5') # result\n",
    "if results_path.exists():\n",
    "    results_path.unlink()\n",
    "\n",
    "print(f\"Saving results in {results_path}\")\n",
    "# process(filelist['path'].iloc[0], results_path)\n",
    "tsk = [dask.delayed(process_safe)(filename, results_path) for filename in filelist['path'].iloc]\n",
    "res = dask.compute(tsk)\n"
   ]
  },
  {
   "cell_type": "code",
   "execution_count": null,
   "metadata": {},
   "outputs": [],
   "source": [
    "len(res[0])"
   ]
  },
  {
   "cell_type": "code",
   "execution_count": null,
   "metadata": {},
   "outputs": [],
   "source": [
    "df = pd.concat(res[0])"
   ]
  },
  {
   "cell_type": "code",
   "execution_count": null,
   "metadata": {},
   "outputs": [],
   "source": [
    "df.to_csv(dst/'results.csv')"
   ]
  }
 ],
 "metadata": {
  "kernelspec": {
   "display_name": "imaging",
   "language": "python",
   "name": "python3"
  },
  "language_info": {
   "codemirror_mode": {
    "name": "ipython",
    "version": 3
   },
   "file_extension": ".py",
   "mimetype": "text/x-python",
   "name": "python",
   "nbconvert_exporter": "python",
   "pygments_lexer": "ipython3",
   "version": "3.9.16"
  }
 },
 "nbformat": 4,
 "nbformat_minor": 2
}
