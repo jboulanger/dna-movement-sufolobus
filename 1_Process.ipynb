{
 "cells": [
  {
   "cell_type": "markdown",
   "metadata": {},
   "source": [
    "# Process all file in folder\n",
    "\n",
    "\n",
    "\n"
   ]
  },
  {
   "cell_type": "code",
   "execution_count": 1,
   "metadata": {},
   "outputs": [],
   "source": [
    "%load_ext autoreload\n",
    "%autoreload 2"
   ]
  },
  {
   "cell_type": "markdown",
   "metadata": {},
   "source": [
    "List the files to process in both conditions wt and sega"
   ]
  },
  {
   "cell_type": "code",
   "execution_count": null,
   "metadata": {},
   "outputs": [
    {
     "name": "stdout",
     "output_type": "stream",
     "text": [
      "Number of files 62\n"
     ]
    },
    {
     "data": {
      "text/html": [
       "<div>\n",
       "<style scoped>\n",
       "    .dataframe tbody tr th:only-of-type {\n",
       "        vertical-align: middle;\n",
       "    }\n",
       "\n",
       "    .dataframe tbody tr th {\n",
       "        vertical-align: top;\n",
       "    }\n",
       "\n",
       "    .dataframe thead th {\n",
       "        text-align: right;\n",
       "    }\n",
       "</style>\n",
       "<table border=\"1\" class=\"dataframe\">\n",
       "  <thead>\n",
       "    <tr style=\"text-align: right;\">\n",
       "      <th></th>\n",
       "      <th>path</th>\n",
       "      <th>name</th>\n",
       "      <th>condition</th>\n",
       "    </tr>\n",
       "  </thead>\n",
       "  <tbody>\n",
       "    <tr>\n",
       "      <th>0</th>\n",
       "      <td>/media/cephfs2/jparham/Joe for Jerome /SegA Li...</td>\n",
       "      <td>01a_delSegA_CM_SyS_reg_Cell_0.tif</td>\n",
       "      <td>sega</td>\n",
       "    </tr>\n",
       "    <tr>\n",
       "      <th>1</th>\n",
       "      <td>/media/cephfs2/jparham/Joe for Jerome /SegA Li...</td>\n",
       "      <td>01a_delSegA_CM_SyS_reg_Cell_12.tif</td>\n",
       "      <td>sega</td>\n",
       "    </tr>\n",
       "    <tr>\n",
       "      <th>2</th>\n",
       "      <td>/media/cephfs2/jparham/Joe for Jerome /SegA Li...</td>\n",
       "      <td>01a_delSegA_CM_SyS_reg_Cell_13.tif</td>\n",
       "      <td>sega</td>\n",
       "    </tr>\n",
       "    <tr>\n",
       "      <th>3</th>\n",
       "      <td>/media/cephfs2/jparham/Joe for Jerome /SegA Li...</td>\n",
       "      <td>01a_delSegA_CM_SyS_reg_Cell_3.tif</td>\n",
       "      <td>sega</td>\n",
       "    </tr>\n",
       "    <tr>\n",
       "      <th>4</th>\n",
       "      <td>/media/cephfs2/jparham/Joe for Jerome /SegA Li...</td>\n",
       "      <td>01a_delSegA_CM_SyS_reg_Cell_11.tif</td>\n",
       "      <td>sega</td>\n",
       "    </tr>\n",
       "  </tbody>\n",
       "</table>\n",
       "</div>"
      ],
      "text/plain": [
       "                                                path  \\\n",
       "0  /media/cephfs2/jparham/Joe for Jerome /SegA Li...   \n",
       "1  /media/cephfs2/jparham/Joe for Jerome /SegA Li...   \n",
       "2  /media/cephfs2/jparham/Joe for Jerome /SegA Li...   \n",
       "3  /media/cephfs2/jparham/Joe for Jerome /SegA Li...   \n",
       "4  /media/cephfs2/jparham/Joe for Jerome /SegA Li...   \n",
       "\n",
       "                                 name condition  \n",
       "0   01a_delSegA_CM_SyS_reg_Cell_0.tif      sega  \n",
       "1  01a_delSegA_CM_SyS_reg_Cell_12.tif      sega  \n",
       "2  01a_delSegA_CM_SyS_reg_Cell_13.tif      sega  \n",
       "3   01a_delSegA_CM_SyS_reg_Cell_3.tif      sega  \n",
       "4  01a_delSegA_CM_SyS_reg_Cell_11.tif      sega  "
      ]
     },
     "execution_count": 11,
     "metadata": {},
     "output_type": "execute_result"
    }
   ],
   "source": [
    "import pandas as pd\n",
    "\n",
    "from pathlib import Path\n",
    "\n",
    "# list files from the src folder\n",
    "src = Path('/media/cephfs2/jparham/Joe for Jerome /')\n",
    "dst = Path('./res')\n",
    "\n",
    "filelist = pd.read_csv('filelist.csv', index_col=0)\n",
    "print(f\"Number of files {len(filelist)}\")\n",
    "filelist.head()\n"
   ]
  },
  {
   "cell_type": "markdown",
   "metadata": {},
   "source": [
    "## Process all file"
   ]
  },
  {
   "cell_type": "code",
   "execution_count": 3,
   "metadata": {},
   "outputs": [],
   "source": [
    "# from tqdm.notebook import tqdm\n",
    "# tqdm.pandas()\n",
    "# import motionquant as mq\n",
    "\n",
    "# results_path = dst/Path('results.h5') # result\n",
    "# if results_path.exists():\n",
    "#     results_path.unlink()\n",
    "\n",
    "# print(f\"Saving results in {results_path}\")\n",
    "\n",
    "# df = []\n",
    "# for filename in tqdm(filelist['path'].iloc):\n",
    "#     try:\n",
    "#         name = filename.stem        \n",
    "#         img, mask, position, speed, diff, flow, rho, div, blob = mq.process(filename)\n",
    "#         df.append(mq.record(name, img, mask, position, speed, diff, flow, rho, div, blob))\n",
    "#         mq.save_result(results_path, name, img, mask, position, speed, diff, flow, rho, div, blob)\n",
    "#     except Exception as e:\n",
    "#         print(f\"file '{filename}' could not be processed\")\n",
    "#         print(e)\n",
    "#         pass\n",
    "# df = pd.concat(df)\n"
   ]
  },
  {
   "cell_type": "markdown",
   "metadata": {},
   "source": [
    "## Parallel processing"
   ]
  },
  {
   "cell_type": "code",
   "execution_count": 4,
   "metadata": {},
   "outputs": [
    {
     "data": {
      "application/vnd.jupyter.widget-view+json": {
       "model_id": "b6f6f2108a3041dda5db3903209bef22",
       "version_major": 2,
       "version_minor": 0
      },
      "text/html": [
       "<div class=\"jp-RenderedHTMLCommon jp-RenderedHTML jp-mod-trusted jp-OutputArea-output\">\n",
       "    <div style=\"width: 24px; height: 24px; background-color: #e1e1e1; border: 3px solid #9D9D9D; border-radius: 5px; position: absolute;\">\n",
       "    </div>\n",
       "    <div style=\"margin-left: 48px;\">\n",
       "        <h3 style=\"margin-bottom: 0px; margin-top: 0px;\">LocalCluster</h3>\n",
       "        <p style=\"color: #9D9D9D; margin-bottom: 0px;\">13309ec9</p>\n",
       "        <table style=\"width: 100%; text-align: left;\">\n",
       "            <tr>\n",
       "                <td style=\"text-align: left;\">\n",
       "                    <strong>Dashboard:</strong> <a href=\"http://127.0.0.1:8787/status\" target=\"_blank\">http://127.0.0.1:8787/status</a>\n",
       "                </td>\n",
       "                <td style=\"text-align: left;\">\n",
       "                    <strong>Workers:</strong> 4\n",
       "                </td>\n",
       "            </tr>\n",
       "            <tr>\n",
       "                <td style=\"text-align: left;\">\n",
       "                    <strong>Total threads:</strong> 12\n",
       "                </td>\n",
       "                <td style=\"text-align: left;\">\n",
       "                    <strong>Total memory:</strong> 31.27 GiB\n",
       "                </td>\n",
       "            </tr>\n",
       "            \n",
       "            <tr>\n",
       "    <td style=\"text-align: left;\"><strong>Status:</strong> running</td>\n",
       "    <td style=\"text-align: left;\"><strong>Using processes:</strong> True</td>\n",
       "</tr>\n",
       "\n",
       "            \n",
       "        </table>\n",
       "\n",
       "        <details>\n",
       "            <summary style=\"margin-bottom: 20px;\">\n",
       "                <h3 style=\"display: inline;\">Scheduler Info</h3>\n",
       "            </summary>\n",
       "\n",
       "            <div style=\"\">\n",
       "    <div>\n",
       "        <div style=\"width: 24px; height: 24px; background-color: #FFF7E5; border: 3px solid #FF6132; border-radius: 5px; position: absolute;\"> </div>\n",
       "        <div style=\"margin-left: 48px;\">\n",
       "            <h3 style=\"margin-bottom: 0px;\">Scheduler</h3>\n",
       "            <p style=\"color: #9D9D9D; margin-bottom: 0px;\">Scheduler-144ba2c4-f5dc-42f0-8b71-91e0ad093ce1</p>\n",
       "            <table style=\"width: 100%; text-align: left;\">\n",
       "                <tr>\n",
       "                    <td style=\"text-align: left;\">\n",
       "                        <strong>Comm:</strong> tcp://127.0.0.1:37233\n",
       "                    </td>\n",
       "                    <td style=\"text-align: left;\">\n",
       "                        <strong>Workers:</strong> 4\n",
       "                    </td>\n",
       "                </tr>\n",
       "                <tr>\n",
       "                    <td style=\"text-align: left;\">\n",
       "                        <strong>Dashboard:</strong> <a href=\"http://127.0.0.1:8787/status\" target=\"_blank\">http://127.0.0.1:8787/status</a>\n",
       "                    </td>\n",
       "                    <td style=\"text-align: left;\">\n",
       "                        <strong>Total threads:</strong> 12\n",
       "                    </td>\n",
       "                </tr>\n",
       "                <tr>\n",
       "                    <td style=\"text-align: left;\">\n",
       "                        <strong>Started:</strong> Just now\n",
       "                    </td>\n",
       "                    <td style=\"text-align: left;\">\n",
       "                        <strong>Total memory:</strong> 31.27 GiB\n",
       "                    </td>\n",
       "                </tr>\n",
       "            </table>\n",
       "        </div>\n",
       "    </div>\n",
       "\n",
       "    <details style=\"margin-left: 48px;\">\n",
       "        <summary style=\"margin-bottom: 20px;\">\n",
       "            <h3 style=\"display: inline;\">Workers</h3>\n",
       "        </summary>\n",
       "\n",
       "        \n",
       "        <div style=\"margin-bottom: 20px;\">\n",
       "            <div style=\"width: 24px; height: 24px; background-color: #DBF5FF; border: 3px solid #4CC9FF; border-radius: 5px; position: absolute;\"> </div>\n",
       "            <div style=\"margin-left: 48px;\">\n",
       "            <details>\n",
       "                <summary>\n",
       "                    <h4 style=\"margin-bottom: 0px; display: inline;\">Worker: 0</h4>\n",
       "                </summary>\n",
       "                <table style=\"width: 100%; text-align: left;\">\n",
       "                    <tr>\n",
       "                        <td style=\"text-align: left;\">\n",
       "                            <strong>Comm: </strong> tcp://127.0.0.1:37533\n",
       "                        </td>\n",
       "                        <td style=\"text-align: left;\">\n",
       "                            <strong>Total threads: </strong> 3\n",
       "                        </td>\n",
       "                    </tr>\n",
       "                    <tr>\n",
       "                        <td style=\"text-align: left;\">\n",
       "                            <strong>Dashboard: </strong> <a href=\"http://127.0.0.1:40629/status\" target=\"_blank\">http://127.0.0.1:40629/status</a>\n",
       "                        </td>\n",
       "                        <td style=\"text-align: left;\">\n",
       "                            <strong>Memory: </strong> 7.82 GiB\n",
       "                        </td>\n",
       "                    </tr>\n",
       "                    <tr>\n",
       "                        <td style=\"text-align: left;\">\n",
       "                            <strong>Nanny: </strong> tcp://127.0.0.1:42555\n",
       "                        </td>\n",
       "                        <td style=\"text-align: left;\"></td>\n",
       "                    </tr>\n",
       "                    <tr>\n",
       "                        <td colspan=\"2\" style=\"text-align: left;\">\n",
       "                            <strong>Local directory: </strong> /tmp/dask-scratch-space/worker-wju4y591\n",
       "                        </td>\n",
       "                    </tr>\n",
       "\n",
       "                    \n",
       "\n",
       "                    \n",
       "\n",
       "                </table>\n",
       "            </details>\n",
       "            </div>\n",
       "        </div>\n",
       "        \n",
       "        <div style=\"margin-bottom: 20px;\">\n",
       "            <div style=\"width: 24px; height: 24px; background-color: #DBF5FF; border: 3px solid #4CC9FF; border-radius: 5px; position: absolute;\"> </div>\n",
       "            <div style=\"margin-left: 48px;\">\n",
       "            <details>\n",
       "                <summary>\n",
       "                    <h4 style=\"margin-bottom: 0px; display: inline;\">Worker: 1</h4>\n",
       "                </summary>\n",
       "                <table style=\"width: 100%; text-align: left;\">\n",
       "                    <tr>\n",
       "                        <td style=\"text-align: left;\">\n",
       "                            <strong>Comm: </strong> tcp://127.0.0.1:38277\n",
       "                        </td>\n",
       "                        <td style=\"text-align: left;\">\n",
       "                            <strong>Total threads: </strong> 3\n",
       "                        </td>\n",
       "                    </tr>\n",
       "                    <tr>\n",
       "                        <td style=\"text-align: left;\">\n",
       "                            <strong>Dashboard: </strong> <a href=\"http://127.0.0.1:43821/status\" target=\"_blank\">http://127.0.0.1:43821/status</a>\n",
       "                        </td>\n",
       "                        <td style=\"text-align: left;\">\n",
       "                            <strong>Memory: </strong> 7.82 GiB\n",
       "                        </td>\n",
       "                    </tr>\n",
       "                    <tr>\n",
       "                        <td style=\"text-align: left;\">\n",
       "                            <strong>Nanny: </strong> tcp://127.0.0.1:46197\n",
       "                        </td>\n",
       "                        <td style=\"text-align: left;\"></td>\n",
       "                    </tr>\n",
       "                    <tr>\n",
       "                        <td colspan=\"2\" style=\"text-align: left;\">\n",
       "                            <strong>Local directory: </strong> /tmp/dask-scratch-space/worker-6vaoa5xn\n",
       "                        </td>\n",
       "                    </tr>\n",
       "\n",
       "                    \n",
       "\n",
       "                    \n",
       "\n",
       "                </table>\n",
       "            </details>\n",
       "            </div>\n",
       "        </div>\n",
       "        \n",
       "        <div style=\"margin-bottom: 20px;\">\n",
       "            <div style=\"width: 24px; height: 24px; background-color: #DBF5FF; border: 3px solid #4CC9FF; border-radius: 5px; position: absolute;\"> </div>\n",
       "            <div style=\"margin-left: 48px;\">\n",
       "            <details>\n",
       "                <summary>\n",
       "                    <h4 style=\"margin-bottom: 0px; display: inline;\">Worker: 2</h4>\n",
       "                </summary>\n",
       "                <table style=\"width: 100%; text-align: left;\">\n",
       "                    <tr>\n",
       "                        <td style=\"text-align: left;\">\n",
       "                            <strong>Comm: </strong> tcp://127.0.0.1:33437\n",
       "                        </td>\n",
       "                        <td style=\"text-align: left;\">\n",
       "                            <strong>Total threads: </strong> 3\n",
       "                        </td>\n",
       "                    </tr>\n",
       "                    <tr>\n",
       "                        <td style=\"text-align: left;\">\n",
       "                            <strong>Dashboard: </strong> <a href=\"http://127.0.0.1:35253/status\" target=\"_blank\">http://127.0.0.1:35253/status</a>\n",
       "                        </td>\n",
       "                        <td style=\"text-align: left;\">\n",
       "                            <strong>Memory: </strong> 7.82 GiB\n",
       "                        </td>\n",
       "                    </tr>\n",
       "                    <tr>\n",
       "                        <td style=\"text-align: left;\">\n",
       "                            <strong>Nanny: </strong> tcp://127.0.0.1:38647\n",
       "                        </td>\n",
       "                        <td style=\"text-align: left;\"></td>\n",
       "                    </tr>\n",
       "                    <tr>\n",
       "                        <td colspan=\"2\" style=\"text-align: left;\">\n",
       "                            <strong>Local directory: </strong> /tmp/dask-scratch-space/worker-y18nba_s\n",
       "                        </td>\n",
       "                    </tr>\n",
       "\n",
       "                    \n",
       "\n",
       "                    \n",
       "\n",
       "                </table>\n",
       "            </details>\n",
       "            </div>\n",
       "        </div>\n",
       "        \n",
       "        <div style=\"margin-bottom: 20px;\">\n",
       "            <div style=\"width: 24px; height: 24px; background-color: #DBF5FF; border: 3px solid #4CC9FF; border-radius: 5px; position: absolute;\"> </div>\n",
       "            <div style=\"margin-left: 48px;\">\n",
       "            <details>\n",
       "                <summary>\n",
       "                    <h4 style=\"margin-bottom: 0px; display: inline;\">Worker: 3</h4>\n",
       "                </summary>\n",
       "                <table style=\"width: 100%; text-align: left;\">\n",
       "                    <tr>\n",
       "                        <td style=\"text-align: left;\">\n",
       "                            <strong>Comm: </strong> tcp://127.0.0.1:40779\n",
       "                        </td>\n",
       "                        <td style=\"text-align: left;\">\n",
       "                            <strong>Total threads: </strong> 3\n",
       "                        </td>\n",
       "                    </tr>\n",
       "                    <tr>\n",
       "                        <td style=\"text-align: left;\">\n",
       "                            <strong>Dashboard: </strong> <a href=\"http://127.0.0.1:40303/status\" target=\"_blank\">http://127.0.0.1:40303/status</a>\n",
       "                        </td>\n",
       "                        <td style=\"text-align: left;\">\n",
       "                            <strong>Memory: </strong> 7.82 GiB\n",
       "                        </td>\n",
       "                    </tr>\n",
       "                    <tr>\n",
       "                        <td style=\"text-align: left;\">\n",
       "                            <strong>Nanny: </strong> tcp://127.0.0.1:34193\n",
       "                        </td>\n",
       "                        <td style=\"text-align: left;\"></td>\n",
       "                    </tr>\n",
       "                    <tr>\n",
       "                        <td colspan=\"2\" style=\"text-align: left;\">\n",
       "                            <strong>Local directory: </strong> /tmp/dask-scratch-space/worker-_hd3djte\n",
       "                        </td>\n",
       "                    </tr>\n",
       "\n",
       "                    \n",
       "\n",
       "                    \n",
       "\n",
       "                </table>\n",
       "            </details>\n",
       "            </div>\n",
       "        </div>\n",
       "        \n",
       "\n",
       "    </details>\n",
       "</div>\n",
       "\n",
       "        </details>\n",
       "    </div>\n",
       "</div>"
      ],
      "text/plain": [
       "LocalCluster(13309ec9, 'tcp://127.0.0.1:37233', workers=4, threads=12, memory=31.27 GiB)"
      ]
     },
     "metadata": {},
     "output_type": "display_data"
    }
   ],
   "source": [
    "from dask.distributed import LocalCluster\n",
    "cluster = LocalCluster()\n",
    "client = cluster.get_client()\n",
    "cluster.scale(6)\n",
    "cluster"
   ]
  },
  {
   "cell_type": "markdown",
   "metadata": {},
   "source": [
    "Create a tag for the result"
   ]
  },
  {
   "cell_type": "code",
   "execution_count": 5,
   "metadata": {},
   "outputs": [
    {
     "name": "stdout",
     "output_type": "stream",
     "text": [
      "503b9c\n"
     ]
    }
   ],
   "source": [
    "import git\n",
    "repo = git.Repo(search_parent_directories=True)\n",
    "tag = repo.head.object.hexsha[-6:]\n",
    "print(tag)"
   ]
  },
  {
   "cell_type": "code",
   "execution_count": 14,
   "metadata": {},
   "outputs": [
    {
     "name": "stderr",
     "output_type": "stream",
     "text": [
      "/home/jeromeb/micromamba/envs/imaging/lib/python3.11/site-packages/cellpose/resnet_torch.py:276: FutureWarning: You are using `torch.load` with `weights_only=False` (the current default value), which uses the default pickle module implicitly. It is possible to construct malicious pickle data which will execute arbitrary code during unpickling (See https://github.com/pytorch/pytorch/blob/main/SECURITY.md#untrusted-models for more details). In a future release, the default value for `weights_only` will be flipped to `True`. This limits the functions that could be executed during unpickling. Arbitrary objects will no longer be allowed to be loaded via this mode unless they are explicitly allowlisted by the user via `torch.serialization.add_safe_globals`. We recommend you start setting `weights_only=True` for any use case where you don't have full control of the loaded file. Please open an issue on GitHub for any issues related to this experimental feature.\n",
      "  state_dict = torch.load(filename, map_location=device)\n"
     ]
    },
    {
     "name": "stdout",
     "output_type": "stream",
     "text": [
      "['y', 'x']\n"
     ]
    },
    {
     "ename": "FileNotFoundError",
     "evalue": "[Errno 2] Unable to synchronously create file (unable to open file: name = 'res/results-503b9c.h5', errno = 2, error message = 'No such file or directory', flags = 15, o_flags = c2)",
     "output_type": "error",
     "traceback": [
      "\u001b[0;31m---------------------------------------------------------------------------\u001b[0m",
      "\u001b[0;31mFileNotFoundError\u001b[0m                         Traceback (most recent call last)",
      "File \u001b[0;32m~/micromamba/envs/imaging/lib/python3.11/site-packages/h5py/_hl/files.py:247\u001b[0m, in \u001b[0;36mmake_fid\u001b[0;34m(name, mode, userblock_size, fapl, fcpl, swmr)\u001b[0m\n\u001b[1;32m    246\u001b[0m \u001b[38;5;28;01mtry\u001b[39;00m:\n\u001b[0;32m--> 247\u001b[0m     fid \u001b[38;5;241m=\u001b[39m \u001b[43mh5f\u001b[49m\u001b[38;5;241;43m.\u001b[39;49m\u001b[43mopen\u001b[49m\u001b[43m(\u001b[49m\u001b[43mname\u001b[49m\u001b[43m,\u001b[49m\u001b[43m \u001b[49m\u001b[43mh5f\u001b[49m\u001b[38;5;241;43m.\u001b[39;49m\u001b[43mACC_RDWR\u001b[49m\u001b[43m,\u001b[49m\u001b[43m \u001b[49m\u001b[43mfapl\u001b[49m\u001b[38;5;241;43m=\u001b[39;49m\u001b[43mfapl\u001b[49m\u001b[43m)\u001b[49m\n\u001b[1;32m    248\u001b[0m \u001b[38;5;66;03m# Not all drivers raise FileNotFoundError (commented those that do not)\u001b[39;00m\n",
      "File \u001b[0;32mh5py/_objects.pyx:54\u001b[0m, in \u001b[0;36mh5py._objects.with_phil.wrapper\u001b[0;34m()\u001b[0m\n",
      "File \u001b[0;32mh5py/_objects.pyx:55\u001b[0m, in \u001b[0;36mh5py._objects.with_phil.wrapper\u001b[0;34m()\u001b[0m\n",
      "File \u001b[0;32mh5py/h5f.pyx:102\u001b[0m, in \u001b[0;36mh5py.h5f.open\u001b[0;34m()\u001b[0m\n",
      "\u001b[0;31mFileNotFoundError\u001b[0m: [Errno 2] Unable to synchronously open file (unable to open file: name = 'res/results-503b9c.h5', errno = 2, error message = 'No such file or directory', flags = 1, o_flags = 2)",
      "\nDuring handling of the above exception, another exception occurred:\n",
      "\u001b[0;31mFileNotFoundError\u001b[0m                         Traceback (most recent call last)",
      "Cell \u001b[0;32mIn[14], line 1\u001b[0m\n\u001b[0;32m----> 1\u001b[0m \u001b[43mprocess\u001b[49m\u001b[43m(\u001b[49m\u001b[43mfilelist\u001b[49m\u001b[38;5;241;43m.\u001b[39;49m\u001b[43miloc\u001b[49m\u001b[43m[\u001b[49m\u001b[38;5;241;43m0\u001b[39;49m\u001b[43m]\u001b[49m\u001b[43m[\u001b[49m\u001b[38;5;124;43m'\u001b[39;49m\u001b[38;5;124;43mpath\u001b[39;49m\u001b[38;5;124;43m'\u001b[39;49m\u001b[43m]\u001b[49m\u001b[43m,\u001b[49m\u001b[43m \u001b[49m\u001b[43mresults_path\u001b[49m\u001b[43m)\u001b[49m\n",
      "Cell \u001b[0;32mIn[7], line 12\u001b[0m, in \u001b[0;36mprocess\u001b[0;34m(filename, results_path)\u001b[0m\n\u001b[1;32m     10\u001b[0m lock \u001b[38;5;241m=\u001b[39m Lock(\u001b[38;5;124m'\u001b[39m\u001b[38;5;124mprocess-sufo\u001b[39m\u001b[38;5;124m'\u001b[39m)\n\u001b[1;32m     11\u001b[0m lock\u001b[38;5;241m.\u001b[39macquire()\n\u001b[0;32m---> 12\u001b[0m \u001b[43mmq\u001b[49m\u001b[38;5;241;43m.\u001b[39;49m\u001b[43msave_result\u001b[49m\u001b[43m(\u001b[49m\u001b[43mresults_path\u001b[49m\u001b[43m,\u001b[49m\u001b[43m \u001b[49m\u001b[43mname\u001b[49m\u001b[43m,\u001b[49m\u001b[43m \u001b[49m\u001b[43mimg\u001b[49m\u001b[43m,\u001b[49m\u001b[43m \u001b[49m\u001b[43mmask\u001b[49m\u001b[43m,\u001b[49m\u001b[43m \u001b[49m\u001b[43mposition\u001b[49m\u001b[43m,\u001b[49m\u001b[43m \u001b[49m\u001b[43mspeed\u001b[49m\u001b[43m,\u001b[49m\u001b[43m \u001b[49m\u001b[43mdiff\u001b[49m\u001b[43m,\u001b[49m\u001b[43m \u001b[49m\u001b[43mflow\u001b[49m\u001b[43m,\u001b[49m\u001b[43m \u001b[49m\u001b[43mrho\u001b[49m\u001b[43m,\u001b[49m\u001b[43m \u001b[49m\u001b[43mdiv\u001b[49m\u001b[43m,\u001b[49m\u001b[43m \u001b[49m\u001b[43mblob\u001b[49m\u001b[43m)\u001b[49m\n\u001b[1;32m     13\u001b[0m lock\u001b[38;5;241m.\u001b[39mrelease()\n\u001b[1;32m     14\u001b[0m df \u001b[38;5;241m=\u001b[39m mq\u001b[38;5;241m.\u001b[39mrecord(name, img, mask, position, speed, diff, flow, rho, div, blob)\n",
      "File \u001b[0;32m~/work/code/baum/dna-movement-sufolobus/motionquant.py:481\u001b[0m, in \u001b[0;36msave_result\u001b[0;34m(filename, name, img, cell_mask, cell_trj, diff, flow, rho, div, blob_labels, blob_trj)\u001b[0m\n\u001b[1;32m    452\u001b[0m \u001b[38;5;250m\u001b[39m\u001b[38;5;124;03m\"\"\"Save results to a hdf5 file\u001b[39;00m\n\u001b[1;32m    453\u001b[0m \n\u001b[1;32m    454\u001b[0m \u001b[38;5;124;03mParameters\u001b[39;00m\n\u001b[0;32m   (...)\u001b[0m\n\u001b[1;32m    478\u001b[0m \u001b[38;5;124;03mblob_trj: pd.dataframe\u001b[39;00m\n\u001b[1;32m    479\u001b[0m \u001b[38;5;124;03m\"\"\"\u001b[39;00m\n\u001b[1;32m    480\u001b[0m sname \u001b[38;5;241m=\u001b[39m Path(name)\u001b[38;5;241m.\u001b[39mstem\n\u001b[0;32m--> 481\u001b[0m \u001b[38;5;28;01mwith\u001b[39;00m \u001b[43mh5py\u001b[49m\u001b[38;5;241;43m.\u001b[39;49m\u001b[43mFile\u001b[49m\u001b[43m(\u001b[49m\u001b[43mfilename\u001b[49m\u001b[43m,\u001b[49m\u001b[43m \u001b[49m\u001b[38;5;124;43m\"\u001b[39;49m\u001b[38;5;124;43ma\u001b[39;49m\u001b[38;5;124;43m\"\u001b[39;49m\u001b[43m)\u001b[49m \u001b[38;5;28;01mas\u001b[39;00m f:\n\u001b[1;32m    482\u001b[0m     f\u001b[38;5;241m.\u001b[39mcreate_group(sname)\n\u001b[1;32m    483\u001b[0m     f\u001b[38;5;241m.\u001b[39mcreate_dataset(\u001b[38;5;124mf\u001b[39m\u001b[38;5;124m\"\u001b[39m\u001b[38;5;132;01m{\u001b[39;00msname\u001b[38;5;132;01m}\u001b[39;00m\u001b[38;5;124m/img\u001b[39m\u001b[38;5;124m\"\u001b[39m, data\u001b[38;5;241m=\u001b[39mimg)\n",
      "File \u001b[0;32m~/micromamba/envs/imaging/lib/python3.11/site-packages/h5py/_hl/files.py:561\u001b[0m, in \u001b[0;36mFile.__init__\u001b[0;34m(self, name, mode, driver, libver, userblock_size, swmr, rdcc_nslots, rdcc_nbytes, rdcc_w0, track_order, fs_strategy, fs_persist, fs_threshold, fs_page_size, page_buf_size, min_meta_keep, min_raw_keep, locking, alignment_threshold, alignment_interval, meta_block_size, **kwds)\u001b[0m\n\u001b[1;32m    552\u001b[0m     fapl \u001b[38;5;241m=\u001b[39m make_fapl(driver, libver, rdcc_nslots, rdcc_nbytes, rdcc_w0,\n\u001b[1;32m    553\u001b[0m                      locking, page_buf_size, min_meta_keep, min_raw_keep,\n\u001b[1;32m    554\u001b[0m                      alignment_threshold\u001b[38;5;241m=\u001b[39malignment_threshold,\n\u001b[1;32m    555\u001b[0m                      alignment_interval\u001b[38;5;241m=\u001b[39malignment_interval,\n\u001b[1;32m    556\u001b[0m                      meta_block_size\u001b[38;5;241m=\u001b[39mmeta_block_size,\n\u001b[1;32m    557\u001b[0m                      \u001b[38;5;241m*\u001b[39m\u001b[38;5;241m*\u001b[39mkwds)\n\u001b[1;32m    558\u001b[0m     fcpl \u001b[38;5;241m=\u001b[39m make_fcpl(track_order\u001b[38;5;241m=\u001b[39mtrack_order, fs_strategy\u001b[38;5;241m=\u001b[39mfs_strategy,\n\u001b[1;32m    559\u001b[0m                      fs_persist\u001b[38;5;241m=\u001b[39mfs_persist, fs_threshold\u001b[38;5;241m=\u001b[39mfs_threshold,\n\u001b[1;32m    560\u001b[0m                      fs_page_size\u001b[38;5;241m=\u001b[39mfs_page_size)\n\u001b[0;32m--> 561\u001b[0m     fid \u001b[38;5;241m=\u001b[39m \u001b[43mmake_fid\u001b[49m\u001b[43m(\u001b[49m\u001b[43mname\u001b[49m\u001b[43m,\u001b[49m\u001b[43m \u001b[49m\u001b[43mmode\u001b[49m\u001b[43m,\u001b[49m\u001b[43m \u001b[49m\u001b[43muserblock_size\u001b[49m\u001b[43m,\u001b[49m\u001b[43m \u001b[49m\u001b[43mfapl\u001b[49m\u001b[43m,\u001b[49m\u001b[43m \u001b[49m\u001b[43mfcpl\u001b[49m\u001b[43m,\u001b[49m\u001b[43m \u001b[49m\u001b[43mswmr\u001b[49m\u001b[38;5;241;43m=\u001b[39;49m\u001b[43mswmr\u001b[49m\u001b[43m)\u001b[49m\n\u001b[1;32m    563\u001b[0m \u001b[38;5;28;01mif\u001b[39;00m \u001b[38;5;28misinstance\u001b[39m(libver, \u001b[38;5;28mtuple\u001b[39m):\n\u001b[1;32m    564\u001b[0m     \u001b[38;5;28mself\u001b[39m\u001b[38;5;241m.\u001b[39m_libver \u001b[38;5;241m=\u001b[39m libver\n",
      "File \u001b[0;32m~/micromamba/envs/imaging/lib/python3.11/site-packages/h5py/_hl/files.py:261\u001b[0m, in \u001b[0;36mmake_fid\u001b[0;34m(name, mode, userblock_size, fapl, fcpl, swmr)\u001b[0m\n\u001b[1;32m    248\u001b[0m     \u001b[38;5;66;03m# Not all drivers raise FileNotFoundError (commented those that do not)\u001b[39;00m\n\u001b[1;32m    249\u001b[0m     \u001b[38;5;28;01mexcept\u001b[39;00m \u001b[38;5;167;01mFileNotFoundError\u001b[39;00m \u001b[38;5;28;01mif\u001b[39;00m fapl\u001b[38;5;241m.\u001b[39mget_driver() \u001b[38;5;129;01min\u001b[39;00m (\n\u001b[1;32m    250\u001b[0m         h5fd\u001b[38;5;241m.\u001b[39mSEC2,\n\u001b[1;32m    251\u001b[0m         h5fd\u001b[38;5;241m.\u001b[39mDIRECT \u001b[38;5;28;01mif\u001b[39;00m direct_vfd \u001b[38;5;28;01melse\u001b[39;00m \u001b[38;5;241m-\u001b[39m\u001b[38;5;241m1\u001b[39m,\n\u001b[0;32m   (...)\u001b[0m\n\u001b[1;32m    259\u001b[0m         h5fd\u001b[38;5;241m.\u001b[39mROS3D \u001b[38;5;28;01mif\u001b[39;00m ros3 \u001b[38;5;28;01melse\u001b[39;00m \u001b[38;5;241m-\u001b[39m\u001b[38;5;241m1\u001b[39m,\n\u001b[1;32m    260\u001b[0m     ) \u001b[38;5;28;01melse\u001b[39;00m \u001b[38;5;167;01mOSError\u001b[39;00m:\n\u001b[0;32m--> 261\u001b[0m         fid \u001b[38;5;241m=\u001b[39m \u001b[43mh5f\u001b[49m\u001b[38;5;241;43m.\u001b[39;49m\u001b[43mcreate\u001b[49m\u001b[43m(\u001b[49m\u001b[43mname\u001b[49m\u001b[43m,\u001b[49m\u001b[43m \u001b[49m\u001b[43mh5f\u001b[49m\u001b[38;5;241;43m.\u001b[39;49m\u001b[43mACC_EXCL\u001b[49m\u001b[43m,\u001b[49m\u001b[43m \u001b[49m\u001b[43mfapl\u001b[49m\u001b[38;5;241;43m=\u001b[39;49m\u001b[43mfapl\u001b[49m\u001b[43m,\u001b[49m\u001b[43m \u001b[49m\u001b[43mfcpl\u001b[49m\u001b[38;5;241;43m=\u001b[39;49m\u001b[43mfcpl\u001b[49m\u001b[43m)\u001b[49m\n\u001b[1;32m    262\u001b[0m \u001b[38;5;28;01melse\u001b[39;00m:\n\u001b[1;32m    263\u001b[0m     \u001b[38;5;28;01mraise\u001b[39;00m \u001b[38;5;167;01mValueError\u001b[39;00m(\u001b[38;5;124m\"\u001b[39m\u001b[38;5;124mInvalid mode; must be one of r, r+, w, w-, x, a\u001b[39m\u001b[38;5;124m\"\u001b[39m)\n",
      "File \u001b[0;32mh5py/_objects.pyx:54\u001b[0m, in \u001b[0;36mh5py._objects.with_phil.wrapper\u001b[0;34m()\u001b[0m\n",
      "File \u001b[0;32mh5py/_objects.pyx:55\u001b[0m, in \u001b[0;36mh5py._objects.with_phil.wrapper\u001b[0;34m()\u001b[0m\n",
      "File \u001b[0;32mh5py/h5f.pyx:122\u001b[0m, in \u001b[0;36mh5py.h5f.create\u001b[0;34m()\u001b[0m\n",
      "\u001b[0;31mFileNotFoundError\u001b[0m: [Errno 2] Unable to synchronously create file (unable to open file: name = 'res/results-503b9c.h5', errno = 2, error message = 'No such file or directory', flags = 15, o_flags = c2)"
     ]
    }
   ],
   "source": [
    "process(filelist.iloc[0]['path'], results_path)"
   ]
  },
  {
   "cell_type": "code",
   "execution_count": 15,
   "metadata": {},
   "outputs": [
    {
     "name": "stdout",
     "output_type": "stream",
     "text": [
      "Saving results in file 'res/results-503b9c.h5'\n"
     ]
    },
    {
     "ename": "TypeError",
     "evalue": "expected str, bytes or os.PathLike object, not _iLocIndexer",
     "output_type": "error",
     "traceback": [
      "\u001b[0;31m---------------------------------------------------------------------------\u001b[0m",
      "\u001b[0;31mTypeError\u001b[0m                                 Traceback (most recent call last)",
      "Cell \u001b[0;32mIn[15], line 32\u001b[0m\n\u001b[1;32m     29\u001b[0m     results_path\u001b[38;5;241m.\u001b[39munlink()\n\u001b[1;32m     31\u001b[0m \u001b[38;5;28mprint\u001b[39m(\u001b[38;5;124mf\u001b[39m\u001b[38;5;124m\"\u001b[39m\u001b[38;5;124mSaving results in file \u001b[39m\u001b[38;5;124m'\u001b[39m\u001b[38;5;132;01m{\u001b[39;00mresults_path\u001b[38;5;132;01m}\u001b[39;00m\u001b[38;5;124m'\u001b[39m\u001b[38;5;124m\"\u001b[39m)\n\u001b[0;32m---> 32\u001b[0m tsk \u001b[38;5;241m=\u001b[39m [dask\u001b[38;5;241m.\u001b[39mdelayed(process_safe)(filename, results_path) \u001b[38;5;28;01mfor\u001b[39;00m filename \u001b[38;5;129;01min\u001b[39;00m \u001b[43mPath\u001b[49m\u001b[43m(\u001b[49m\u001b[43mfilelist\u001b[49m\u001b[43m[\u001b[49m\u001b[38;5;124;43m'\u001b[39;49m\u001b[38;5;124;43mpath\u001b[39;49m\u001b[38;5;124;43m'\u001b[39;49m\u001b[43m]\u001b[49m\u001b[38;5;241;43m.\u001b[39;49m\u001b[43miloc\u001b[49m\u001b[43m)\u001b[49m]\n\u001b[1;32m     33\u001b[0m res \u001b[38;5;241m=\u001b[39m dask\u001b[38;5;241m.\u001b[39mcompute(tsk)\n\u001b[1;32m     34\u001b[0m df \u001b[38;5;241m=\u001b[39m pd\u001b[38;5;241m.\u001b[39mconcat(res[\u001b[38;5;241m0\u001b[39m])\n",
      "File \u001b[0;32m~/micromamba/envs/imaging/lib/python3.11/pathlib.py:871\u001b[0m, in \u001b[0;36mPath.__new__\u001b[0;34m(cls, *args, **kwargs)\u001b[0m\n\u001b[1;32m    869\u001b[0m \u001b[38;5;28;01mif\u001b[39;00m \u001b[38;5;28mcls\u001b[39m \u001b[38;5;129;01mis\u001b[39;00m Path:\n\u001b[1;32m    870\u001b[0m     \u001b[38;5;28mcls\u001b[39m \u001b[38;5;241m=\u001b[39m WindowsPath \u001b[38;5;28;01mif\u001b[39;00m os\u001b[38;5;241m.\u001b[39mname \u001b[38;5;241m==\u001b[39m \u001b[38;5;124m'\u001b[39m\u001b[38;5;124mnt\u001b[39m\u001b[38;5;124m'\u001b[39m \u001b[38;5;28;01melse\u001b[39;00m PosixPath\n\u001b[0;32m--> 871\u001b[0m \u001b[38;5;28mself\u001b[39m \u001b[38;5;241m=\u001b[39m \u001b[38;5;28;43mcls\u001b[39;49m\u001b[38;5;241;43m.\u001b[39;49m\u001b[43m_from_parts\u001b[49m\u001b[43m(\u001b[49m\u001b[43margs\u001b[49m\u001b[43m)\u001b[49m\n\u001b[1;32m    872\u001b[0m \u001b[38;5;28;01mif\u001b[39;00m \u001b[38;5;129;01mnot\u001b[39;00m \u001b[38;5;28mself\u001b[39m\u001b[38;5;241m.\u001b[39m_flavour\u001b[38;5;241m.\u001b[39mis_supported:\n\u001b[1;32m    873\u001b[0m     \u001b[38;5;28;01mraise\u001b[39;00m \u001b[38;5;167;01mNotImplementedError\u001b[39;00m(\u001b[38;5;124m\"\u001b[39m\u001b[38;5;124mcannot instantiate \u001b[39m\u001b[38;5;132;01m%r\u001b[39;00m\u001b[38;5;124m on your system\u001b[39m\u001b[38;5;124m\"\u001b[39m\n\u001b[1;32m    874\u001b[0m                               \u001b[38;5;241m%\u001b[39m (\u001b[38;5;28mcls\u001b[39m\u001b[38;5;241m.\u001b[39m\u001b[38;5;18m__name__\u001b[39m,))\n",
      "File \u001b[0;32m~/micromamba/envs/imaging/lib/python3.11/pathlib.py:509\u001b[0m, in \u001b[0;36mPurePath._from_parts\u001b[0;34m(cls, args)\u001b[0m\n\u001b[1;32m    504\u001b[0m \u001b[38;5;129m@classmethod\u001b[39m\n\u001b[1;32m    505\u001b[0m \u001b[38;5;28;01mdef\u001b[39;00m \u001b[38;5;21m_from_parts\u001b[39m(\u001b[38;5;28mcls\u001b[39m, args):\n\u001b[1;32m    506\u001b[0m     \u001b[38;5;66;03m# We need to call _parse_args on the instance, so as to get the\u001b[39;00m\n\u001b[1;32m    507\u001b[0m     \u001b[38;5;66;03m# right flavour.\u001b[39;00m\n\u001b[1;32m    508\u001b[0m     \u001b[38;5;28mself\u001b[39m \u001b[38;5;241m=\u001b[39m \u001b[38;5;28mobject\u001b[39m\u001b[38;5;241m.\u001b[39m\u001b[38;5;21m__new__\u001b[39m(\u001b[38;5;28mcls\u001b[39m)\n\u001b[0;32m--> 509\u001b[0m     drv, root, parts \u001b[38;5;241m=\u001b[39m \u001b[38;5;28;43mself\u001b[39;49m\u001b[38;5;241;43m.\u001b[39;49m\u001b[43m_parse_args\u001b[49m\u001b[43m(\u001b[49m\u001b[43margs\u001b[49m\u001b[43m)\u001b[49m\n\u001b[1;32m    510\u001b[0m     \u001b[38;5;28mself\u001b[39m\u001b[38;5;241m.\u001b[39m_drv \u001b[38;5;241m=\u001b[39m drv\n\u001b[1;32m    511\u001b[0m     \u001b[38;5;28mself\u001b[39m\u001b[38;5;241m.\u001b[39m_root \u001b[38;5;241m=\u001b[39m root\n",
      "File \u001b[0;32m~/micromamba/envs/imaging/lib/python3.11/pathlib.py:493\u001b[0m, in \u001b[0;36mPurePath._parse_args\u001b[0;34m(cls, args)\u001b[0m\n\u001b[1;32m    491\u001b[0m     parts \u001b[38;5;241m+\u001b[39m\u001b[38;5;241m=\u001b[39m a\u001b[38;5;241m.\u001b[39m_parts\n\u001b[1;32m    492\u001b[0m \u001b[38;5;28;01melse\u001b[39;00m:\n\u001b[0;32m--> 493\u001b[0m     a \u001b[38;5;241m=\u001b[39m os\u001b[38;5;241m.\u001b[39mfspath(a)\n\u001b[1;32m    494\u001b[0m     \u001b[38;5;28;01mif\u001b[39;00m \u001b[38;5;28misinstance\u001b[39m(a, \u001b[38;5;28mstr\u001b[39m):\n\u001b[1;32m    495\u001b[0m         \u001b[38;5;66;03m# Force-cast str subclasses to str (issue #21127)\u001b[39;00m\n\u001b[1;32m    496\u001b[0m         parts\u001b[38;5;241m.\u001b[39mappend(\u001b[38;5;28mstr\u001b[39m(a))\n",
      "\u001b[0;31mTypeError\u001b[0m: expected str, bytes or os.PathLike object, not _iLocIndexer"
     ]
    },
    {
     "name": "stdout",
     "output_type": "stream",
     "text": [
      "file '/media/cephfs2/jparham/Joe for Jerome /Divisions with G2toConstriction/01a_DSM639_SyS_CM_start_reg_Cell_24.tif' could not be processed\n",
      "No matching signature found\n",
      "None\n"
     ]
    },
    {
     "name": "stderr",
     "output_type": "stream",
     "text": [
      "Traceback (most recent call last):\n",
      "  File \"/tmp/ipykernel_141074/1493789395.py\", line 20, in process_safe\n",
      "  File \"/tmp/ipykernel_141074/1493789395.py\", line 9, in process\n",
      "  File \"/home/jeromeb/work/code/baum/dna-movement-sufolobus/motionquant.py\", line 435, in process\n",
      "    blob_labels, blobs_trj = segment_and_track_dna_blobs(pimg[:, 1], cell_mask)\n",
      "                             ^^^^^^^^^^^^^^^^^^^^^^^^^^^^^^^^^^^^^^^^^^^^^^^^^^\n",
      "  File \"/home/jeromeb/work/code/baum/dna-movement-sufolobus/motionquant.py\", line 248, in segment_and_track_dna_blobs\n",
      "    blob = np.stack([segment_watershed(b, 5.0) for b in blob])\n",
      "                    ^^^^^^^^^^^^^^^^^^^^^^^^^^^^^^^^^^^^^^^\n",
      "  File \"/home/jeromeb/work/code/baum/dna-movement-sufolobus/motionquant.py\", line 248, in <listcomp>\n",
      "    blob = np.stack([segment_watershed(b, 5.0) for b in blob])\n",
      "                     ^^^^^^^^^^^^^^^^^^^^^^^\n",
      "  File \"/home/jeromeb/work/code/baum/dna-movement-sufolobus/motionquant.py\", line 30, in segment_watershed\n",
      "    labels = segmentation.watershed(-d, seed) * mask\n",
      "             ^^^^^^^^^^^^^^^^^^^^^^^^^^^^^^^^\n",
      "  File \"/home/jeromeb/micromamba/envs/imaging/lib/python3.11/site-packages/skimage/segmentation/_watershed.py\", line 229, in watershed\n",
      "    _watershed_cy.watershed_raveled(\n",
      "  File \"_watershed_cy.pyx\", line 68, in skimage.segmentation._watershed_cy.__pyx_fused_cpdef\n",
      "TypeError: No matching signature found\n"
     ]
    },
    {
     "name": "stdout",
     "output_type": "stream",
     "text": [
      "file '/media/cephfs2/jparham/Joe for Jerome /Divisions with G2toConstriction/01a_DSM639_SyS_CM_start_reg_Cell_15.tif' could not be processed\n",
      "No matching signature found\n",
      "None\n"
     ]
    },
    {
     "name": "stderr",
     "output_type": "stream",
     "text": [
      "Traceback (most recent call last):\n",
      "  File \"/tmp/ipykernel_141074/1493789395.py\", line 20, in process_safe\n",
      "  File \"/tmp/ipykernel_141074/1493789395.py\", line 9, in process\n",
      "  File \"/home/jeromeb/work/code/baum/dna-movement-sufolobus/motionquant.py\", line 435, in process\n",
      "    blob_labels, blobs_trj = segment_and_track_dna_blobs(pimg[:, 1], cell_mask)\n",
      "                             ^^^^^^^^^^^^^^^^^^^^^^^^^^^^^^^^^^^^^^^^^^^^^^^^^^\n",
      "  File \"/home/jeromeb/work/code/baum/dna-movement-sufolobus/motionquant.py\", line 248, in segment_and_track_dna_blobs\n",
      "    blob = np.stack([segment_watershed(b, 5.0) for b in blob])\n",
      "                    ^^^^^^^^^^^^^^^^^^^^^^^^^^^^^^^^^^^^^^^\n",
      "  File \"/home/jeromeb/work/code/baum/dna-movement-sufolobus/motionquant.py\", line 248, in <listcomp>\n",
      "    blob = np.stack([segment_watershed(b, 5.0) for b in blob])\n",
      "                     ^^^^^^^^^^^^^^^^^^^^^^^\n",
      "  File \"/home/jeromeb/work/code/baum/dna-movement-sufolobus/motionquant.py\", line 30, in segment_watershed\n",
      "    labels = segmentation.watershed(-d, seed) * mask\n",
      "             ^^^^^^^^^^^^^^^^^^^^^^^^^^^^^^^^\n",
      "  File \"/home/jeromeb/micromamba/envs/imaging/lib/python3.11/site-packages/skimage/segmentation/_watershed.py\", line 229, in watershed\n",
      "    _watershed_cy.watershed_raveled(\n",
      "  File \"_watershed_cy.pyx\", line 68, in skimage.segmentation._watershed_cy.__pyx_fused_cpdef\n",
      "TypeError: No matching signature found\n"
     ]
    },
    {
     "name": "stdout",
     "output_type": "stream",
     "text": [
      "file '/media/cephfs2/jparham/Joe for Jerome /SegA Live imaging /20240229_delSegA/CroppedDivisions/01a_delSegA_CM_SyS_reg_Cell_11.tif' could not be processed\n",
      "No matching signature found\n",
      "None\n"
     ]
    },
    {
     "name": "stderr",
     "output_type": "stream",
     "text": [
      "Traceback (most recent call last):\n",
      "  File \"/tmp/ipykernel_141074/1493789395.py\", line 20, in process_safe\n",
      "  File \"/tmp/ipykernel_141074/1493789395.py\", line 9, in process\n",
      "  File \"/home/jeromeb/work/code/baum/dna-movement-sufolobus/motionquant.py\", line 435, in process\n",
      "    blob_labels, blobs_trj = segment_and_track_dna_blobs(pimg[:, 1], cell_mask)\n",
      "                             ^^^^^^^^^^^^^^^^^^^^^^^^^^^^^^^^^^^^^^^^^^^^^^^^^^\n",
      "  File \"/home/jeromeb/work/code/baum/dna-movement-sufolobus/motionquant.py\", line 248, in segment_and_track_dna_blobs\n",
      "    blob = np.stack([segment_watershed(b, 5.0) for b in blob])\n",
      "                    ^^^^^^^^^^^^^^^^^^^^^^^^^^^^^^^^^^^^^^^\n",
      "  File \"/home/jeromeb/work/code/baum/dna-movement-sufolobus/motionquant.py\", line 248, in <listcomp>\n",
      "    blob = np.stack([segment_watershed(b, 5.0) for b in blob])\n",
      "                     ^^^^^^^^^^^^^^^^^^^^^^^\n",
      "  File \"/home/jeromeb/work/code/baum/dna-movement-sufolobus/motionquant.py\", line 30, in segment_watershed\n",
      "    labels = segmentation.watershed(-d, seed) * mask\n",
      "             ^^^^^^^^^^^^^^^^^^^^^^^^^^^^^^^^\n",
      "  File \"/home/jeromeb/micromamba/envs/imaging/lib/python3.11/site-packages/skimage/segmentation/_watershed.py\", line 229, in watershed\n",
      "    _watershed_cy.watershed_raveled(\n",
      "  File \"_watershed_cy.pyx\", line 68, in skimage.segmentation._watershed_cy.__pyx_fused_cpdef\n",
      "TypeError: No matching signature found\n"
     ]
    },
    {
     "name": "stdout",
     "output_type": "stream",
     "text": [
      "file '/media/cephfs2/jparham/Joe for Jerome /SegA Live imaging /20240229_delSegA/CroppedDivisions/01a_delSegA_CM_SyS_reg_Cell_9.tif' could not be processed\n",
      "No matching signature found\n",
      "None\n"
     ]
    },
    {
     "name": "stderr",
     "output_type": "stream",
     "text": [
      "Traceback (most recent call last):\n",
      "  File \"/tmp/ipykernel_141074/1493789395.py\", line 20, in process_safe\n",
      "  File \"/tmp/ipykernel_141074/1493789395.py\", line 9, in process\n",
      "  File \"/home/jeromeb/work/code/baum/dna-movement-sufolobus/motionquant.py\", line 435, in process\n",
      "    blob_labels, blobs_trj = segment_and_track_dna_blobs(pimg[:, 1], cell_mask)\n",
      "                             ^^^^^^^^^^^^^^^^^^^^^^^^^^^^^^^^^^^^^^^^^^^^^^^^^^\n",
      "  File \"/home/jeromeb/work/code/baum/dna-movement-sufolobus/motionquant.py\", line 248, in segment_and_track_dna_blobs\n",
      "    blob = np.stack([segment_watershed(b, 5.0) for b in blob])\n",
      "                    ^^^^^^^^^^^^^^^^^^^^^^^^^^^^^^^^^^^^^^^\n",
      "  File \"/home/jeromeb/work/code/baum/dna-movement-sufolobus/motionquant.py\", line 248, in <listcomp>\n",
      "    blob = np.stack([segment_watershed(b, 5.0) for b in blob])\n",
      "                     ^^^^^^^^^^^^^^^^^^^^^^^\n",
      "  File \"/home/jeromeb/work/code/baum/dna-movement-sufolobus/motionquant.py\", line 30, in segment_watershed\n",
      "    labels = segmentation.watershed(-d, seed) * mask\n",
      "             ^^^^^^^^^^^^^^^^^^^^^^^^^^^^^^^^\n",
      "  File \"/home/jeromeb/micromamba/envs/imaging/lib/python3.11/site-packages/skimage/segmentation/_watershed.py\", line 229, in watershed\n",
      "    _watershed_cy.watershed_raveled(\n",
      "  File \"_watershed_cy.pyx\", line 68, in skimage.segmentation._watershed_cy.__pyx_fused_cpdef\n",
      "TypeError: No matching signature found\n"
     ]
    },
    {
     "name": "stdout",
     "output_type": "stream",
     "text": [
      "file '/media/cephfs2/jparham/Joe for Jerome /Divisions with G2toConstriction/01a_DSM639_SyS_CM_start_reg_Cell_25.tif' could not be processed\n",
      "No matching signature found\n",
      "None\n"
     ]
    },
    {
     "name": "stderr",
     "output_type": "stream",
     "text": [
      "Traceback (most recent call last):\n",
      "  File \"/tmp/ipykernel_141074/1493789395.py\", line 20, in process_safe\n",
      "  File \"/tmp/ipykernel_141074/1493789395.py\", line 9, in process\n",
      "  File \"/home/jeromeb/work/code/baum/dna-movement-sufolobus/motionquant.py\", line 435, in process\n",
      "    blob_labels, blobs_trj = segment_and_track_dna_blobs(pimg[:, 1], cell_mask)\n",
      "                             ^^^^^^^^^^^^^^^^^^^^^^^^^^^^^^^^^^^^^^^^^^^^^^^^^^\n",
      "  File \"/home/jeromeb/work/code/baum/dna-movement-sufolobus/motionquant.py\", line 248, in segment_and_track_dna_blobs\n",
      "    blob = np.stack([segment_watershed(b, 5.0) for b in blob])\n",
      "                    ^^^^^^^^^^^^^^^^^^^^^^^^^^^^^^^^^^^^^^^\n",
      "  File \"/home/jeromeb/work/code/baum/dna-movement-sufolobus/motionquant.py\", line 248, in <listcomp>\n",
      "    blob = np.stack([segment_watershed(b, 5.0) for b in blob])\n",
      "                     ^^^^^^^^^^^^^^^^^^^^^^^\n",
      "  File \"/home/jeromeb/work/code/baum/dna-movement-sufolobus/motionquant.py\", line 30, in segment_watershed\n",
      "    labels = segmentation.watershed(-d, seed) * mask\n",
      "             ^^^^^^^^^^^^^^^^^^^^^^^^^^^^^^^^\n",
      "  File \"/home/jeromeb/micromamba/envs/imaging/lib/python3.11/site-packages/skimage/segmentation/_watershed.py\", line 229, in watershed\n",
      "    _watershed_cy.watershed_raveled(\n",
      "  File \"_watershed_cy.pyx\", line 68, in skimage.segmentation._watershed_cy.__pyx_fused_cpdef\n",
      "TypeError: No matching signature found\n"
     ]
    },
    {
     "name": "stdout",
     "output_type": "stream",
     "text": [
      "file '/media/cephfs2/jparham/Joe for Jerome /SegA Live imaging /20240229_delSegA/CroppedDivisions/01a_delSegA_CM_SyS_reg_Cell_2.tif' could not be processed\n",
      "No matching signature found\n",
      "None\n"
     ]
    },
    {
     "name": "stderr",
     "output_type": "stream",
     "text": [
      "Traceback (most recent call last):\n",
      "  File \"/tmp/ipykernel_141074/1493789395.py\", line 20, in process_safe\n",
      "  File \"/tmp/ipykernel_141074/1493789395.py\", line 9, in process\n",
      "  File \"/home/jeromeb/work/code/baum/dna-movement-sufolobus/motionquant.py\", line 435, in process\n",
      "    blob_labels, blobs_trj = segment_and_track_dna_blobs(pimg[:, 1], cell_mask)\n",
      "                             ^^^^^^^^^^^^^^^^^^^^^^^^^^^^^^^^^^^^^^^^^^^^^^^^^^\n",
      "  File \"/home/jeromeb/work/code/baum/dna-movement-sufolobus/motionquant.py\", line 248, in segment_and_track_dna_blobs\n",
      "    blob = np.stack([segment_watershed(b, 5.0) for b in blob])\n",
      "                    ^^^^^^^^^^^^^^^^^^^^^^^^^^^^^^^^^^^^^^^\n",
      "  File \"/home/jeromeb/work/code/baum/dna-movement-sufolobus/motionquant.py\", line 248, in <listcomp>\n",
      "    blob = np.stack([segment_watershed(b, 5.0) for b in blob])\n",
      "                     ^^^^^^^^^^^^^^^^^^^^^^^\n",
      "  File \"/home/jeromeb/work/code/baum/dna-movement-sufolobus/motionquant.py\", line 30, in segment_watershed\n",
      "    labels = segmentation.watershed(-d, seed) * mask\n",
      "             ^^^^^^^^^^^^^^^^^^^^^^^^^^^^^^^^\n",
      "  File \"/home/jeromeb/micromamba/envs/imaging/lib/python3.11/site-packages/skimage/segmentation/_watershed.py\", line 229, in watershed\n",
      "    _watershed_cy.watershed_raveled(\n",
      "  File \"_watershed_cy.pyx\", line 68, in skimage.segmentation._watershed_cy.__pyx_fused_cpdef\n",
      "TypeError: No matching signature found\n"
     ]
    },
    {
     "name": "stdout",
     "output_type": "stream",
     "text": [
      "file '/media/cephfs2/jparham/Joe for Jerome /SegA Live imaging /20240229_delSegA/CroppedDivisions/01a_delSegA_CM_SyS_reg_Cell_13.tif' could not be processed\n",
      "No matching signature found\n",
      "None\n"
     ]
    },
    {
     "name": "stderr",
     "output_type": "stream",
     "text": [
      "Traceback (most recent call last):\n",
      "  File \"/tmp/ipykernel_141074/1493789395.py\", line 20, in process_safe\n",
      "  File \"/tmp/ipykernel_141074/1493789395.py\", line 9, in process\n",
      "  File \"/home/jeromeb/work/code/baum/dna-movement-sufolobus/motionquant.py\", line 435, in process\n",
      "    blob_labels, blobs_trj = segment_and_track_dna_blobs(pimg[:, 1], cell_mask)\n",
      "                             ^^^^^^^^^^^^^^^^^^^^^^^^^^^^^^^^^^^^^^^^^^^^^^^^^^\n",
      "  File \"/home/jeromeb/work/code/baum/dna-movement-sufolobus/motionquant.py\", line 248, in segment_and_track_dna_blobs\n",
      "    blob = np.stack([segment_watershed(b, 5.0) for b in blob])\n",
      "                    ^^^^^^^^^^^^^^^^^^^^^^^^^^^^^^^^^^^^^^^\n",
      "  File \"/home/jeromeb/work/code/baum/dna-movement-sufolobus/motionquant.py\", line 248, in <listcomp>\n",
      "    blob = np.stack([segment_watershed(b, 5.0) for b in blob])\n",
      "                     ^^^^^^^^^^^^^^^^^^^^^^^\n",
      "  File \"/home/jeromeb/work/code/baum/dna-movement-sufolobus/motionquant.py\", line 30, in segment_watershed\n",
      "    labels = segmentation.watershed(-d, seed) * mask\n",
      "             ^^^^^^^^^^^^^^^^^^^^^^^^^^^^^^^^\n",
      "  File \"/home/jeromeb/micromamba/envs/imaging/lib/python3.11/site-packages/skimage/segmentation/_watershed.py\", line 229, in watershed\n",
      "    _watershed_cy.watershed_raveled(\n",
      "  File \"_watershed_cy.pyx\", line 68, in skimage.segmentation._watershed_cy.__pyx_fused_cpdef\n",
      "TypeError: No matching signature found\n"
     ]
    },
    {
     "name": "stdout",
     "output_type": "stream",
     "text": [
      "file '/media/cephfs2/jparham/Joe for Jerome /SegA Live imaging /20240229_delSegA/CroppedDivisions/01a_delSegA_CM_SyS_reg_Cell_7.tif' could not be processed\n",
      "No matching signature found\n",
      "None\n"
     ]
    },
    {
     "name": "stderr",
     "output_type": "stream",
     "text": [
      "Traceback (most recent call last):\n",
      "  File \"/tmp/ipykernel_141074/1493789395.py\", line 20, in process_safe\n",
      "  File \"/tmp/ipykernel_141074/1493789395.py\", line 9, in process\n",
      "  File \"/home/jeromeb/work/code/baum/dna-movement-sufolobus/motionquant.py\", line 435, in process\n",
      "    blob_labels, blobs_trj = segment_and_track_dna_blobs(pimg[:, 1], cell_mask)\n",
      "                             ^^^^^^^^^^^^^^^^^^^^^^^^^^^^^^^^^^^^^^^^^^^^^^^^^^\n",
      "  File \"/home/jeromeb/work/code/baum/dna-movement-sufolobus/motionquant.py\", line 248, in segment_and_track_dna_blobs\n",
      "    blob = np.stack([segment_watershed(b, 5.0) for b in blob])\n",
      "                    ^^^^^^^^^^^^^^^^^^^^^^^^^^^^^^^^^^^^^^^\n",
      "  File \"/home/jeromeb/work/code/baum/dna-movement-sufolobus/motionquant.py\", line 248, in <listcomp>\n",
      "    blob = np.stack([segment_watershed(b, 5.0) for b in blob])\n",
      "                     ^^^^^^^^^^^^^^^^^^^^^^^\n",
      "  File \"/home/jeromeb/work/code/baum/dna-movement-sufolobus/motionquant.py\", line 30, in segment_watershed\n",
      "    labels = segmentation.watershed(-d, seed) * mask\n",
      "             ^^^^^^^^^^^^^^^^^^^^^^^^^^^^^^^^\n",
      "  File \"/home/jeromeb/micromamba/envs/imaging/lib/python3.11/site-packages/skimage/segmentation/_watershed.py\", line 229, in watershed\n",
      "    _watershed_cy.watershed_raveled(\n",
      "  File \"_watershed_cy.pyx\", line 68, in skimage.segmentation._watershed_cy.__pyx_fused_cpdef\n",
      "TypeError: No matching signature found\n"
     ]
    }
   ],
   "source": [
    "import motionquant as mq\n",
    "import dask\n",
    "from dask.distributed import Lock\n",
    "import traceback\n",
    "\n",
    "def process(filename, results_path):\n",
    "    \"\"\"Process files and save results in a hf5 file\"\"\"\n",
    "    name = filename.stem        \n",
    "    img, mask, position, speed, diff, flow, rho, div, blob = mq.process(Path(filename))\n",
    "    lock = Lock('process-sufo')\n",
    "    lock.acquire()\n",
    "    mq.save_result(results_path, name, img, mask, position, speed, diff, flow, rho, div, blob)\n",
    "    lock.release()\n",
    "    df = mq.record(name, img, mask, position, speed, diff, flow, rho, div, blob)\n",
    "    return df\n",
    "\n",
    "def process_safe(filename, results_path):\n",
    "    \"\"\"Process files catching exceptions\"\"\"\n",
    "    try:\n",
    "        return process(filename, results_path)\n",
    "    except Exception as e:\n",
    "        print(f\"file '{filename}' could not be processed\")\n",
    "        print(e)\n",
    "        print(traceback.print_exc())\n",
    "        pass\n",
    "\n",
    "results_path = dst/Path(f'results-{tag}.h5') # result\n",
    "if results_path.exists():\n",
    "    results_path.unlink()\n",
    "\n",
    "print(f\"Saving results in file '{results_path}'\")\n",
    "tsk = [dask.delayed(process_safe)(filename, results_path) for filename in filelist['path'].iloc]\n",
    "res = dask.compute(tsk)\n",
    "df = pd.concat(res[0])"
   ]
  },
  {
   "cell_type": "code",
   "execution_count": 7,
   "metadata": {},
   "outputs": [],
   "source": [
    "df.to_csv(dst/'results.csv')"
   ]
  }
 ],
 "metadata": {
  "kernelspec": {
   "display_name": "Python 3",
   "language": "python",
   "name": "python3"
  },
  "language_info": {
   "codemirror_mode": {
    "name": "ipython",
    "version": 3
   },
   "file_extension": ".py",
   "mimetype": "text/x-python",
   "name": "python",
   "nbconvert_exporter": "python",
   "pygments_lexer": "ipython3",
   "version": "3.11.6"
  }
 },
 "nbformat": 4,
 "nbformat_minor": 2
}
