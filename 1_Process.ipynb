{
 "cells": [
  {
   "cell_type": "markdown",
   "metadata": {},
   "source": [
    "# Process all file in folder\n",
    "\n",
    "\n",
    "\n"
   ]
  },
  {
   "cell_type": "code",
   "execution_count": 1,
   "metadata": {},
   "outputs": [],
   "source": [
    "%load_ext autoreload\n",
    "%autoreload 2"
   ]
  },
  {
   "cell_type": "markdown",
   "metadata": {},
   "source": [
    "List the files to process in both conditions wt and sega"
   ]
  },
  {
   "cell_type": "code",
   "execution_count": 2,
   "metadata": {},
   "outputs": [
    {
     "name": "stdout",
     "output_type": "stream",
     "text": [
      "Number of files 62\n"
     ]
    },
    {
     "data": {
      "text/html": [
       "<div>\n",
       "<style scoped>\n",
       "    .dataframe tbody tr th:only-of-type {\n",
       "        vertical-align: middle;\n",
       "    }\n",
       "\n",
       "    .dataframe tbody tr th {\n",
       "        vertical-align: top;\n",
       "    }\n",
       "\n",
       "    .dataframe thead th {\n",
       "        text-align: right;\n",
       "    }\n",
       "</style>\n",
       "<table border=\"1\" class=\"dataframe\">\n",
       "  <thead>\n",
       "    <tr style=\"text-align: right;\">\n",
       "      <th></th>\n",
       "      <th>path</th>\n",
       "      <th>name</th>\n",
       "      <th>condition</th>\n",
       "    </tr>\n",
       "  </thead>\n",
       "  <tbody>\n",
       "    <tr>\n",
       "      <th>0</th>\n",
       "      <td>/media/cephfs2/jparham/Joe for Jerome /SegA Li...</td>\n",
       "      <td>01a_delSegA_CM_SyS_reg_Cell_0.tif</td>\n",
       "      <td>sega</td>\n",
       "    </tr>\n",
       "    <tr>\n",
       "      <th>1</th>\n",
       "      <td>/media/cephfs2/jparham/Joe for Jerome /SegA Li...</td>\n",
       "      <td>01a_delSegA_CM_SyS_reg_Cell_12.tif</td>\n",
       "      <td>sega</td>\n",
       "    </tr>\n",
       "    <tr>\n",
       "      <th>2</th>\n",
       "      <td>/media/cephfs2/jparham/Joe for Jerome /SegA Li...</td>\n",
       "      <td>01a_delSegA_CM_SyS_reg_Cell_13.tif</td>\n",
       "      <td>sega</td>\n",
       "    </tr>\n",
       "    <tr>\n",
       "      <th>3</th>\n",
       "      <td>/media/cephfs2/jparham/Joe for Jerome /SegA Li...</td>\n",
       "      <td>01a_delSegA_CM_SyS_reg_Cell_3.tif</td>\n",
       "      <td>sega</td>\n",
       "    </tr>\n",
       "    <tr>\n",
       "      <th>4</th>\n",
       "      <td>/media/cephfs2/jparham/Joe for Jerome /SegA Li...</td>\n",
       "      <td>01a_delSegA_CM_SyS_reg_Cell_11.tif</td>\n",
       "      <td>sega</td>\n",
       "    </tr>\n",
       "  </tbody>\n",
       "</table>\n",
       "</div>"
      ],
      "text/plain": [
       "                                                path  \\\n",
       "0  /media/cephfs2/jparham/Joe for Jerome /SegA Li...   \n",
       "1  /media/cephfs2/jparham/Joe for Jerome /SegA Li...   \n",
       "2  /media/cephfs2/jparham/Joe for Jerome /SegA Li...   \n",
       "3  /media/cephfs2/jparham/Joe for Jerome /SegA Li...   \n",
       "4  /media/cephfs2/jparham/Joe for Jerome /SegA Li...   \n",
       "\n",
       "                                 name condition  \n",
       "0   01a_delSegA_CM_SyS_reg_Cell_0.tif      sega  \n",
       "1  01a_delSegA_CM_SyS_reg_Cell_12.tif      sega  \n",
       "2  01a_delSegA_CM_SyS_reg_Cell_13.tif      sega  \n",
       "3   01a_delSegA_CM_SyS_reg_Cell_3.tif      sega  \n",
       "4  01a_delSegA_CM_SyS_reg_Cell_11.tif      sega  "
      ]
     },
     "execution_count": 2,
     "metadata": {},
     "output_type": "execute_result"
    }
   ],
   "source": [
    "import pandas as pd\n",
    "\n",
    "from pathlib import Path\n",
    "\n",
    "# list files from the src folder\n",
    "src = Path('/media/cephfs2/jparham/Joe for Jerome /')\n",
    "dst = Path('./')\n",
    "\n",
    "filelist = pd.concat((\n",
    "    pd.DataFrame.from_records(\n",
    "        [{'path':f, 'name':f.name, 'condition':'sega'}  for d in src.glob('*/*/Crop*') for f in d.glob('[!.]*.tif')]\n",
    "    ),\n",
    "    pd.DataFrame.from_records(\n",
    "    [{'path':f, 'name':f.name, 'condition':'wt'}  for d in src.glob('Div*') for f in d.glob('[!.]*.tif')]\n",
    ")),axis=0,ignore_index=True)\n",
    "\n",
    "print(f\"Number of files {len(filelist)}\")\n",
    "filelist.head()\n"
   ]
  },
  {
   "cell_type": "code",
   "execution_count": 22,
   "metadata": {},
   "outputs": [],
   "source": [
    "import motionquant as mq\n",
    "filename = filelist.iloc[0]['path']\n",
    "img, mask, position, speed, diff, flow, rho, div, blob = mq.process(filename)"
   ]
  },
  {
   "cell_type": "code",
   "execution_count": 26,
   "metadata": {},
   "outputs": [
    {
     "name": "stdout",
     "output_type": "stream",
     "text": [
      "(441, 60, 60) (441, 60, 60)\n"
     ]
    }
   ],
   "source": [
    "df = mq.record(\"tmp\", img, mask, position, speed, diff, flow, rho, div, blob)\n"
   ]
  },
  {
   "cell_type": "code",
   "execution_count": 27,
   "metadata": {},
   "outputs": [
    {
     "ename": "NameError",
     "evalue": "name 'plt' is not defined",
     "output_type": "error",
     "traceback": [
      "\u001b[0;31m---------------------------------------------------------------------------\u001b[0m",
      "\u001b[0;31mNameError\u001b[0m                                 Traceback (most recent call last)",
      "Cell \u001b[0;32mIn[27], line 1\u001b[0m\n\u001b[0;32m----> 1\u001b[0m \u001b[43mplt\u001b[49m\u001b[38;5;241m.\u001b[39mplot(df[\u001b[38;5;124m'\u001b[39m\u001b[38;5;124mdna mean intensity\u001b[39m\u001b[38;5;124m'\u001b[39m])\n",
      "\u001b[0;31mNameError\u001b[0m: name 'plt' is not defined"
     ]
    }
   ],
   "source": []
  },
  {
   "cell_type": "markdown",
   "metadata": {},
   "source": [
    "## Process all file"
   ]
  },
  {
   "cell_type": "code",
   "execution_count": 29,
   "metadata": {},
   "outputs": [
    {
     "name": "stdout",
     "output_type": "stream",
     "text": [
      "Saving results in results.h5\n"
     ]
    },
    {
     "data": {
      "application/vnd.jupyter.widget-view+json": {
       "model_id": "a5728f2c320b4f0c91bb9199f1cf4840",
       "version_major": 2,
       "version_minor": 0
      },
      "text/plain": [
       "0it [00:00, ?it/s]"
      ]
     },
     "metadata": {},
     "output_type": "display_data"
    },
    {
     "name": "stdout",
     "output_type": "stream",
     "text": [
      "file '/media/cephfs2/jparham/Joe for Jerome /SegA Live imaging /20240229_delSegA/CroppedDivisions/01a_delSegA_CM_SyS_reg_Cell_6.tif' could not be processed\n",
      "No cell found at frame 262\n"
     ]
    }
   ],
   "source": [
    "from tqdm.notebook import tqdm\n",
    "tqdm.pandas()\n",
    "import motionquant as mq\n",
    "import dask\n",
    "\n",
    "results_path = dst/Path('results.h5') # result\n",
    "if results_path.exists():\n",
    "    results_path.unlink()\n",
    "\n",
    "print(f\"Saving results in {results_path}\")\n",
    "\n",
    "df = []\n",
    "for filename in tqdm(filelist['path'].iloc):\n",
    "    try:\n",
    "        name = filename.stem        \n",
    "        img, mask, position, speed, diff, flow, rho, div, blob = mq.process(filename)\n",
    "        df.append(mq.record(name, img, mask, position, speed, diff, flow, rho, div, blob))\n",
    "        mq.save_result(results_path, name, img, mask, position, speed, diff, flow, rho, div, blob)\n",
    "    except Exception as e:\n",
    "        print(f\"file '{filename}' could not be processed\")\n",
    "        print(e)\n",
    "        pass\n"
   ]
  },
  {
   "cell_type": "code",
   "execution_count": 30,
   "metadata": {},
   "outputs": [],
   "source": [
    "df = pd.concat(df)"
   ]
  },
  {
   "cell_type": "code",
   "execution_count": 31,
   "metadata": {},
   "outputs": [],
   "source": [
    "df.to_csv(dst/'results.csv')"
   ]
  }
 ],
 "metadata": {
  "kernelspec": {
   "display_name": "imaging",
   "language": "python",
   "name": "python3"
  },
  "language_info": {
   "codemirror_mode": {
    "name": "ipython",
    "version": 3
   },
   "file_extension": ".py",
   "mimetype": "text/x-python",
   "name": "python",
   "nbconvert_exporter": "python",
   "pygments_lexer": "ipython3",
   "version": "3.9.16"
  }
 },
 "nbformat": 4,
 "nbformat_minor": 2
}
