{
 "cells": [
  {
   "cell_type": "code",
   "execution_count": null,
   "metadata": {},
   "outputs": [],
   "source": [
    "\n",
    "import dnasufo as mq\n",
    "\n",
    "from ipyfilechooser import FileChooser\n",
    "\n",
    "\n",
    "root = Path(\"/cephfs2/jparham/\")\n",
    "dst = Path(\"/cephfs2/jeromeb/userdata/Baum_group/jparham/Analysis8\")\n",
    "mq.list_files(root, dst)\n",
    "\n",
    "import pandas as pd\n",
    "\n",
    "from pathlib import Path\n",
    "\n",
    "# list files from the src folder\n",
    "root = Path(\"/cephfs2/jparham/\")\n",
    "dst = Path(\"/cephfs2/jeromeb/userdata/Baum_group/jparham/Analysis8\")\n",
    "dst.mkdir(exist_ok=True)\n",
    "\n",
    "filelist =  pd.DataFrame.from_records( [\n",
    "    {'path':x.relative_to(root),\n",
    "     'name':x.name,\n",
    "     'condition':'unknown'}\n",
    "    for x in root.rglob('Crop*/[!.]*.tif')\n",
    "    ])\n",
    "\n",
    "print(f\"Number of files {len(filelist)}\")\n",
    "print(filelist)\n",
    "filelist.to_csv(dst / \"filelist.csv\")"
   ]
  }
 ],
 "metadata": {
  "kernelspec": {
   "display_name": "Python 3",
   "language": "python",
   "name": "python3"
  },
  "language_info": {
   "codemirror_mode": {
    "name": "ipython",
    "version": 3
   },
   "file_extension": ".py",
   "mimetype": "text/x-python",
   "name": "python",
   "nbconvert_exporter": "python",
   "pygments_lexer": "ipython3",
   "version": "3.11.6"
  }
 },
 "nbformat": 4,
 "nbformat_minor": 2
}
