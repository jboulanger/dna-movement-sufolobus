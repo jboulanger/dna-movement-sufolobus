{
 "cells": [
  {
   "cell_type": "code",
   "execution_count": 13,
   "metadata": {},
   "outputs": [
    {
     "name": "stdout",
     "output_type": "stream",
     "text": [
      "Number of files 172\n"
     ]
    }
   ],
   "source": [
    "import pandas as pd\n",
    "\n",
    "from pathlib import Path\n",
    "\n",
    "# list files from the src folder\n",
    "src = Path(\"/media/cephfs2/jparham/\")\n",
    "dst = Path(\"/media/cephfs2/jeromeb/userdata/Baum_group/jparham/Analysis8\")\n",
    "dst.mkdir(exist_ok=True)\n",
    "\n",
    "filelist = pd.concat(\n",
    "    (\n",
    "        pd.DataFrame.from_records(\n",
    "            [\n",
    "                {\"path\": f.relative_to(src), \"name\": f.name, \"condition\": \"sega\"}\n",
    "                for d in src.glob(\"Joe for Jerome /*/*/Crop*\")\n",
    "                for f in d.glob(\"[!.]*.tif\")\n",
    "            ]\n",
    "        ),\n",
    "        pd.DataFrame.from_records(\n",
    "            [\n",
    "                {\"path\": f.relative_to(src), \"name\": f.name, \"condition\": \"wt\"}\n",
    "                for d in src.glob(\"Joe for Jerome /Div*\")\n",
    "                for f in d.glob(\"[!.]*.tif\")\n",
    "            ]\n",
    "        ),\n",
    "        pd.DataFrame.from_records(\n",
    "            [\n",
    "                {\"path\": f.relative_to(src), \"name\": f.name, \"condition\": \"wt\"}\n",
    "                for d in src.glob(\"Jerome January 2025 /New cells for Jerome /*\")\n",
    "                for f in d.glob(\"[!.]*.tif\")\n",
    "            ]\n",
    "        ),\n",
    "        pd.DataFrame.from_records(\n",
    "            [\n",
    "                {\"path\": f, \"name\": f.name, \"condition\": \"CdvAmut\"}\n",
    "                for d in src.glob(\"Jerome January 2025 /CdvAmut/*\")\n",
    "                for f in d.glob(\"[!.]*.tif\")\n",
    "            ]\n",
    "        ),\n",
    "    ),\n",
    "    axis=0,\n",
    "    ignore_index=True,\n",
    ")\n",
    "\n",
    "print(f\"Number of files {len(filelist)}\")\n",
    "filelist.head()\n",
    "filelist.to_csv(dst / \"filelist.csv\")"
   ]
  }
 ],
 "metadata": {
  "kernelspec": {
   "display_name": "Python 3",
   "language": "python",
   "name": "python3"
  },
  "language_info": {
   "codemirror_mode": {
    "name": "ipython",
    "version": 3
   },
   "file_extension": ".py",
   "mimetype": "text/x-python",
   "name": "python",
   "nbconvert_exporter": "python",
   "pygments_lexer": "ipython3",
   "version": "3.11.6"
  }
 },
 "nbformat": 4,
 "nbformat_minor": 2
}
