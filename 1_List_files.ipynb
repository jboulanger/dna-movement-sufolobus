{
 "cells": [
  {
   "cell_type": "code",
   "execution_count": null,
   "metadata": {},
   "outputs": [],
   "source": [
    "import pandas as pd\n",
    "\n",
    "from pathlib import Path\n",
    "\n",
    "# list files from the src folder\n",
    "src = Path('/media/cephfs2/jparham/Joe for Jerome /')\n",
    "dst = Path('./')\n",
    "\n",
    "filelist = pd.concat((\n",
    "    pd.DataFrame.from_records(\n",
    "        [{'path':f, 'name':f.name, 'condition':'sega'}  for d in src.glob('*/*/Crop*') for f in d.glob('[!.]*.tif')]\n",
    "    ),\n",
    "    pd.DataFrame.from_records(\n",
    "    [{'path':f, 'name':f.name, 'condition':'wt'}  for d in src.glob('Div*') for f in d.glob('[!.]*.tif')]\n",
    ")),axis=0,ignore_index=True)\n",
    "\n",
    "print(f\"Number of files {len(filelist)}\")\n",
    "filelist.head()\n",
    "filelist.to_csv('filelist.csv')"
   ]
  }
 ],
 "metadata": {
  "language_info": {
   "name": "python"
  }
 },
 "nbformat": 4,
 "nbformat_minor": 2
}
