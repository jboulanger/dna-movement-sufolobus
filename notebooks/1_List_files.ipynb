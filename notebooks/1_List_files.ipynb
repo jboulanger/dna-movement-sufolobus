{
 "cells": [
  {
   "cell_type": "markdown",
   "metadata": {},
   "source": [
    "# Initialize project and list files\n",
    "\n",
    "In this notebook, the files that need to be processed are listed and stored in a csv file.\n",
    "\n",
    "Select the input and output folders:"
   ]
  },
  {
   "cell_type": "code",
   "execution_count": null,
   "metadata": {},
   "outputs": [],
   "source": [
    "from pathlib import Path\n",
    "from ipyfilechooser import FileChooser\n",
    "from ipywidgets import Dropdown\n",
    "import dnasufo.dnasufo as mq\n",
    "\n",
    "\n",
    "root = Path(\"\")\n",
    "dst = Path(\"\")\n",
    "style = {'description_width': '150px'}\n",
    "fc1 = FileChooser(root, select_desc=\"Root\")\n",
    "fc2 = FileChooser(dst, select_desc=\"Destination\")\n",
    "ch1 = Dropdown(\n",
    "    options=[('First', 0), ('Second', 1), ('Third', 2)],\n",
    "    value=0,\n",
    "    description='Membrane channel',\n",
    "    style=style\n",
    ")\n",
    "ch2 = Dropdown(\n",
    "    options=[('First', 0), ('Second', 1), ('Third', 2)],\n",
    "    value=1,\n",
    "    description='DNA channel',\n",
    "    style=style\n",
    ")\n",
    "display(fc1,fc2,ch1,ch2)"
   ]
  },
  {
   "cell_type": "markdown",
   "metadata": {},
   "source": [
    "List the files and save the list in as a csv file."
   ]
  },
  {
   "cell_type": "code",
   "execution_count": null,
   "metadata": {},
   "outputs": [],
   "source": [
    "root = Path(fc1.selected)\n",
    "dst = Path(fc2.selected)\n",
    "channels = [ch1.value, ch2.value]\n",
    "filelist = mq.list_files(root, dst, channels)"
   ]
  }
 ],
 "metadata": {
  "language_info": {
   "name": "python",
   "pygments_lexer": "ipython3"
  }
 },
 "nbformat": 4,
 "nbformat_minor": 2
}
