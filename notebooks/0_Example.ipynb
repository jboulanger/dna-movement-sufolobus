{
 "cells": [
  {
   "cell_type": "markdown",
   "metadata": {},
   "source": [
    "# Simulated example\n",
    "This notebook demonstrate the usage of the code on a simulated example.\n",
    "\n",
    "We start by generating a test example with 2 channels and 50 frames:"
   ]
  },
  {
   "cell_type": "code",
   "execution_count": null,
   "metadata": {},
   "outputs": [],
   "source": [
    "import dnasufo\n",
    "\n",
    "data = dnasufo.example([50,60,60])\n",
    "print(\"Data shape:\", data.shape)"
   ]
  },
  {
   "cell_type": "markdown",
   "metadata": {},
   "source": [
    "Let's visualize the data:"
   ]
  },
  {
   "cell_type": "code",
   "execution_count": null,
   "metadata": {},
   "outputs": [],
   "source": [
    "import matplotlib.pyplot as plt\n",
    "plt.imshow(dnasufo.uv2rgb(data[20]))\n",
    "plt.axis('off')\n",
    "plt.title('Simulated data as frame 20')"
   ]
  },
  {
   "cell_type": "markdown",
   "metadata": {},
   "source": [
    "We process then the image sequence to segment the cells, track them and estimate the motion of the DNA."
   ]
  },
  {
   "cell_type": "code",
   "execution_count": null,
   "metadata": {},
   "outputs": [],
   "source": [
    "pimg, cell_lbl, cell_trj, cell_flow, dna_lbl, dna_trj, dna_flow = dnasufo.process(data)"
   ]
  },
  {
   "cell_type": "markdown",
   "metadata": {},
   "source": [
    "We can then create a photo strip using:"
   ]
  },
  {
   "cell_type": "code",
   "execution_count": null,
   "metadata": {},
   "outputs": [],
   "source": [
    "dnasufo.create_strip(1,\"test\",pimg, cell_lbl, cell_trj, cell_flow, dna_lbl, dna_trj, dna_flow,selection=slice(0,50,5))"
   ]
  },
  {
   "cell_type": "markdown",
   "metadata": {},
   "source": []
  },
  {
   "cell_type": "code",
   "execution_count": null,
   "metadata": {},
   "outputs": [],
   "source": [
    "dnasufo.create_figure(0,\"test\",pimg, cell_lbl, cell_trj, cell_flow, dna_lbl, dna_trj, dna_flow,10)"
   ]
  }
 ],
 "metadata": {
  "language_info": {
   "name": "python",
   "pygments_lexer": "ipython3"
  }
 },
 "nbformat": 4,
 "nbformat_minor": 2
}
