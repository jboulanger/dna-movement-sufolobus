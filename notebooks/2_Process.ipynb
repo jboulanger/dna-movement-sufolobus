{
 "cells": [
  {
   "cell_type": "markdown",
   "metadata": {},
   "source": [
    "# Process all files\n",
    "\n",
    "In this notebook, we load the list of files to process them in parallel.\n",
    "The results are saved into a hdf5 file.\n"
   ]
  },
  {
   "cell_type": "markdown",
   "metadata": {},
   "source": [
    "## Load the list of files"
   ]
  },
  {
   "cell_type": "code",
   "execution_count": null,
   "metadata": {},
   "outputs": [],
   "source": [
    "from pathlib import Path\n",
    "from ipyfilechooser import FileChooser\n",
    "import pandas as pd\n",
    "import dnasufo \n",
    "\n",
    "root = Path(\"\")\n",
    "dst = Path(\"\")\n",
    "fc1 = FileChooser(root, select_desc=\"Root\")\n",
    "fc2 = FileChooser(dst, select_desc=\"Destination\")\n",
    "display(fc1)\n",
    "display(fc2)"
   ]
  },
  {
   "cell_type": "code",
   "execution_count": null,
   "metadata": {},
   "outputs": [],
   "source": [
    "root = Path(fc1.selected)\n",
    "dst = Path(fc2.selected)\n",
    "filelist = pd.read_csv(dst/'filelist.csv', index_col=0)\n",
    "print(f\"Number of files {len(filelist)}\")\n",
    "filelist.head()"
   ]
  },
  {
   "cell_type": "markdown",
   "metadata": {},
   "source": [
    "## Processing\n",
    "\n",
    "Files are processed in parallel. For this we start by defining a processing function for each line."
   ]
  },
  {
   "cell_type": "code",
   "execution_count": null,
   "metadata": {},
   "outputs": [],
   "source": [
    "def process_and_save_result(root, row):\n",
    "    \"\"\"Process and save results\"\"\"\n",
    "    ret = dnasufo.process(root / row['path'], channels=[row['membrane'], row['dna']])\n",
    "    dnasufo.save_result(dst / f\"{row.name:06d}.h5\", row['name'], *ret)\n",
    "    return \"ok\"\n"
   ]
  },
  {
   "cell_type": "markdown",
   "metadata": {},
   "source": [
    "Process all the files in parallel and save the results in the destination folder."
   ]
  },
  {
   "cell_type": "code",
   "execution_count": null,
   "metadata": {},
   "outputs": [],
   "source": [
    "from dask import delayed, compute\n",
    "from dask.distributed import LocalCluster\n",
    "cluster = LocalCluster()\n",
    "client = cluster.get_client()\n",
    "cluster.scale(2)\n",
    "tsk = [delayed(process_and_save_result)(root, row) for row in filelist.iloc[:5].iloc]\n",
    "compute(tsk)"
   ]
  }
 ],
 "metadata": {
  "language_info": {
   "name": "python",
   "pygments_lexer": "ipython3"
  }
 },
 "nbformat": 4,
 "nbformat_minor": 2
}
