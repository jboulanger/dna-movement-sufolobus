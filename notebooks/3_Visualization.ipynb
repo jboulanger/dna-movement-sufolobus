{
 "cells": [
  {
   "cell_type": "markdown",
   "metadata": {},
   "source": [
    "# Visualization of DNA movement in dividing Sufolobus\n",
    "\n",
    "In this notebook, we load the h5 file containing the results and generate individual visualization."
   ]
  },
  {
   "cell_type": "code",
   "execution_count": null,
   "metadata": {},
   "outputs": [],
   "source": [
    "%load_ext autoreload\n",
    "%autoreload 2"
   ]
  },
  {
   "cell_type": "markdown",
   "metadata": {},
   "source": [
    "Setup the path to the destination folder"
   ]
  },
  {
   "cell_type": "code",
   "execution_count": null,
   "metadata": {},
   "outputs": [],
   "source": [
    "from pathlib import Path\n",
    "import dnasufo \n",
    "import matplotlib.pyplot as plt\n",
    "from ipyfilechooser import FileChooser\n",
    "\n",
    "dst = Path(\"\")\n",
    "fc = FileChooser(dst, select_desc=\"Destination\")\n",
    "display(fc)\n"
   ]
  },
  {
   "cell_type": "code",
   "execution_count": null,
   "metadata": {},
   "outputs": [],
   "source": [
    "import pandas as pd\n",
    "dst = Path(fc.selected)\n",
    "filelist = pd.read_csv(dst / 'filelist.csv')"
   ]
  },
  {
   "cell_type": "markdown",
   "metadata": {},
   "source": [
    "List all the files in the destination folder"
   ]
  },
  {
   "cell_type": "code",
   "execution_count": null,
   "metadata": {},
   "outputs": [],
   "source": [
    "items = dnasufo.inspect_result(dst)\n",
    "print(f\"There are {len(items)} items in '{dst}'.\")"
   ]
  },
  {
   "cell_type": "markdown",
   "metadata": {},
   "source": [
    "Make a figure for a selected a sequences."
   ]
  },
  {
   "cell_type": "code",
   "execution_count": null,
   "metadata": {},
   "outputs": [],
   "source": [
    "plt.rc('font', size=6)\n",
    "mq.figure(dst, 17, frame=\"auto\")"
   ]
  },
  {
   "cell_type": "markdown",
   "metadata": {},
   "source": [
    "Save all figures in a multipage pdf"
   ]
  },
  {
   "cell_type": "code",
   "execution_count": null,
   "metadata": {},
   "outputs": [],
   "source": [
    "from matplotlib.backends.backend_pdf import PdfPages\n",
    "\n",
    "plt.rc('font', size=6)\n",
    "with PdfPages(dst / 'figures.pdf') as pdf:\n",
    "    for index in items:\n",
    "        plt.clf()\n",
    "        dnasufo.figure(dst, index, frame=\"auto\")\n",
    "        pdf.savefig()\n",
    "        plt.close()"
   ]
  },
  {
   "cell_type": "markdown",
   "metadata": {},
   "source": [
    "Inspect a single strip"
   ]
  },
  {
   "cell_type": "code",
   "execution_count": null,
   "metadata": {},
   "outputs": [],
   "source": [
    "dnasufo.strip(dst, 17, \"Greys\", selection=\"auto\", quiver=False)\n"
   ]
  },
  {
   "cell_type": "markdown",
   "metadata": {},
   "source": [
    "Save all strips as individual pdf files"
   ]
  },
  {
   "cell_type": "code",
   "execution_count": null,
   "metadata": {},
   "outputs": [],
   "source": [
    "from matplotlib.backends.backend_pdf import PdfPages\n",
    "\n",
    "plt.rc('font', size=6)\n",
    "with PdfPages(dst / 'strips.pdf') as pdf:\n",
    "    for index in items:\n",
    "        plt.clf()\n",
    "        mq.strip(dst, index, \"Greys\", selection=\"auto\", quiver=False)\n",
    "        pdf.savefig()\n",
    "        plt.close()"
   ]
  },
  {
   "cell_type": "markdown",
   "metadata": {},
   "source": [
    "Visualize the image and mask using napari"
   ]
  },
  {
   "cell_type": "code",
   "execution_count": null,
   "metadata": {},
   "outputs": [],
   "source": [
    "# import napari\n",
    "# import numpy as np\n",
    "# img, cell_mask, cell_trj, diff, flow, rho, div, blob_labels, blob_trj = mq.load_result(\n",
    "#     filename, name\n",
    "# )\n",
    "# vector = mq.make_vector(rho,4)\n",
    "# v = napari.view_image(img, channel_axis=1)\n",
    "# v.add_labels(cell_mask.squeeze().astype(np.uint64))\n",
    "# v.add_vectors(vector, edge_width=0.1, edge_color=\"white\", length=1)"
   ]
  },
  {
   "cell_type": "markdown",
   "metadata": {},
   "source": [
    "### Export all csv to excel"
   ]
  },
  {
   "cell_type": "code",
   "execution_count": null,
   "metadata": {},
   "outputs": [],
   "source": [
    "import pandas as pd\n",
    "\n",
    "# load and concatenate all the csv files\n",
    "df = pd.concat([pd.read_csv(dst / f'{idx:06d}.csv') for idx in items if (dst / f'{idx:06d}.csv').exists()])\n"
   ]
  },
  {
   "cell_type": "code",
   "execution_count": null,
   "metadata": {},
   "outputs": [],
   "source": [
    "df"
   ]
  },
  {
   "cell_type": "markdown",
   "metadata": {},
   "source": [
    "Add a synchronized time"
   ]
  },
  {
   "cell_type": "code",
   "execution_count": null,
   "metadata": {},
   "outputs": [],
   "source": [
    "ndf = []\n",
    "for k, ng in enumerate(df.groupby('filename')):\n",
    "    name, group = ng\n",
    "    t0 = mq.split_frame(group)    \n",
    "    group['sync frame'] = group['frame'] - t0\n",
    "    ndf.append(group)\n",
    "df = pd.concat(ndf)"
   ]
  },
  {
   "cell_type": "markdown",
   "metadata": {},
   "source": [
    "Add the condition"
   ]
  },
  {
   "cell_type": "code",
   "execution_count": null,
   "metadata": {},
   "outputs": [],
   "source": [
    "filelist = pd.read_csv('filelist.csv',usecols=['name','condition'])\n",
    "filelist['filename'] = filelist['name'].apply(lambda x:Path(x).stem)\n",
    "dfc = df.merge(filelist.drop('name',axis=1),on='filename',how='left')\n",
    "dfc.to_csv(dst/'results_with_condition.csv')"
   ]
  },
  {
   "cell_type": "markdown",
   "metadata": {},
   "source": [
    "Save all results to a excel file"
   ]
  },
  {
   "cell_type": "code",
   "execution_count": null,
   "metadata": {},
   "outputs": [],
   "source": [
    "with pd.ExcelWriter(dst/'sheets.xlsx') as writer:\n",
    "    for tab in df.columns[6:]:\n",
    "        tmp = df.pivot_table(values=tab, index='frame', columns='filename')\n",
    "        tmp.to_excel(writer,sheet_name=tab)\n",
    "        # smoothed version\n",
    "        for c in tmp.columns:\n",
    "            tmp[c] = mq.ndi.gaussian_filter1d(tmp[c], 5)\n",
    "        tmp.to_excel(writer,sheet_name=f\"{tab}-smoothed\")"
   ]
  },
  {
   "cell_type": "code",
   "execution_count": null,
   "metadata": {},
   "outputs": [],
   "source": [
    "pd.set_option('future.no_silent_downcasting', True)\n",
    "with pd.ExcelWriter(dst/'sheet.xlsx') as writer:\n",
    "    for n,g in df.groupby('filename'):\n",
    "        for c in df.columns[7:-1]:\n",
    "            g[f'{c} smoothed'] = mq.ndi.gaussian_filter1d(g[c].replace(pd.NA, 0.0).infer_objects(copy=False), 5)\n",
    "        g.to_excel(writer, sheet_name=Path(n).stem)"
   ]
  },
  {
   "cell_type": "markdown",
   "metadata": {},
   "source": [
    "Display each measurement by condition"
   ]
  },
  {
   "cell_type": "code",
   "execution_count": null,
   "metadata": {},
   "outputs": [],
   "source": [
    "import seaborn as sns\n",
    "import numpy as np\n",
    "cols = dfc.columns[5:-2]\n",
    "fig,ax = plt.subplots(4, int(np.ceil(len(cols)/4)))\n",
    "ax = ax.ravel()\n",
    "for k,c in enumerate(cols):    \n",
    "    p = sns.lineplot(data=dfc[dfc[\"sync frame\"]<100], x='sync frame', y=c, hue='condition', ax=ax[k])\n",
    "    p.get_legend().remove()\n",
    "fig.set_tight_layout(True)"
   ]
  },
  {
   "cell_type": "markdown",
   "metadata": {},
   "source": [
    "Use seaborn to create a figure"
   ]
  },
  {
   "cell_type": "code",
   "execution_count": null,
   "metadata": {},
   "outputs": [],
   "source": [
    "dflong = pd.melt(df.iloc[0:1200], id_vars=('filename','frame') , value_vars=df.columns[6:])\n",
    "dflong.head()"
   ]
  },
  {
   "cell_type": "code",
   "execution_count": null,
   "metadata": {},
   "outputs": [],
   "source": [
    "grid = sns.FacetGrid(data=dflong, row='filename', col='variable', sharey = False)\n",
    "grid.map_dataframe(sns.lineplot, x=\"frame\",y=\"value\")\n",
    "# grid.set_titles(template=\"\", row_template='{row_var}{row_name}',col_template='{col_var}{col_name}')\n",
    "grid.set_titles(\"\", col_template='{col_name}')"
   ]
  },
  {
   "cell_type": "code",
   "execution_count": null,
   "metadata": {},
   "outputs": [],
   "source": [
    "facet_kws={'sharey': False, 'sharex': True}\n",
    "sns.relplot(data=dflong, x=\"frame\", y=\"value\", col=\"filename\", row=\"variable\", kind='line', facet_kws=facet_kws)"
   ]
  }
 ],
 "metadata": {
  "language_info": {
   "name": "python",
   "pygments_lexer": "ipython3"
  }
 },
 "nbformat": 4,
 "nbformat_minor": 2
}
